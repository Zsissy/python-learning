{
 "cells": [
  {
   "cell_type": "code",
   "execution_count": 2,
   "metadata": {},
   "outputs": [],
   "source": [
    "from sklearn.linear_model import LinearRegression\n",
    "import pandas as pd\n",
    "from sklearn.model_selection import train_test_split"
   ]
  },
  {
   "cell_type": "markdown",
   "metadata": {},
   "source": [
    "将路径下的Excel文件读取，存入dataframe"
   ]
  },
  {
   "cell_type": "code",
   "execution_count": 3,
   "metadata": {},
   "outputs": [],
   "source": [
    "\n",
    "dataframe_alldata = pd.read_csv(\"/Users/zhengxiqiao/Documents/python-learning/python作业/机器学习作业/机器学习作业2/train.csv\") "
   ]
  },
  {
   "cell_type": "markdown",
   "metadata": {},
   "source": [
    "将dataframe中的y提取出来，将表头为feature1-13中所对应的每一行的数据提取为一个数组，存在x中，即每一横行x对应一个y"
   ]
  },
  {
   "cell_type": "code",
   "execution_count": 4,
   "metadata": {},
   "outputs": [],
   "source": [
    "y=dataframe_alldata['label']\n",
    "x = dataframe_alldata.iloc[:, :13].values\n"
   ]
  },
  {
   "cell_type": "markdown",
   "metadata": {},
   "source": [
    "将刚才得到的x,y数据随机划分为训练集和测试集"
   ]
  },
  {
   "cell_type": "code",
   "execution_count": 5,
   "metadata": {},
   "outputs": [],
   "source": [
    "\n",
    "train_x,test_x,train_y,test_y = train_test_split(x,y,test_size=0.3,random_state = 0)"
   ]
  },
  {
   "cell_type": "markdown",
   "metadata": {},
   "source": [
    "用线性回归模型来评估训练数据的得分"
   ]
  },
  {
   "cell_type": "code",
   "execution_count": 6,
   "metadata": {},
   "outputs": [
    {
     "name": "stdout",
     "output_type": "stream",
     "text": [
      "0.642529479248051\n"
     ]
    }
   ],
   "source": [
    "LinearRegression_clf=LinearRegression().fit(train_x,train_y)\n",
    "train_score = LinearRegression_clf.score(train_x,train_y)\n",
    "print(train_score)"
   ]
  },
  {
   "cell_type": "code",
   "execution_count": 7,
   "metadata": {},
   "outputs": [],
   "source": [
    "dataframe_alldata = pd.read_csv(\"/Users/zhengxiqiao/Documents/python-learning/python作业/机器学习作业/机器学习作业2/test.csv\") "
   ]
  },
  {
   "cell_type": "code",
   "execution_count": 8,
   "metadata": {},
   "outputs": [],
   "source": [
    "new_x = dataframe_alldata.iloc[:, :13].values"
   ]
  },
  {
   "cell_type": "code",
   "execution_count": 9,
   "metadata": {},
   "outputs": [
    {
     "name": "stdout",
     "output_type": "stream",
     "text": [
      "[24.18409502 27.56463075 23.86826079 23.96964497 21.12833793 23.16981057\n",
      " 24.79128885 17.89133328 19.61053978 16.67550158 15.21335934 18.54669494\n",
      " 14.0558906  15.51907793 16.30962925 20.99112211 15.24445587 16.48394778\n",
      " 22.94767285 31.06528433 33.6554962  23.44249844 16.98543791 23.48996804\n",
      " 27.66900475 24.90267956 18.80456638 31.61229886 20.79647994 18.33185867\n",
      " 18.63409229 23.68509953 30.52564349 27.16195225 21.65699007 23.19588064\n",
      " 24.30217429 26.25754415 24.72878779 24.75690709 25.84660298 29.27895677\n",
      " 30.81971553 27.60686497 27.1662588  27.27898849 25.16440503 24.512474\n",
      " 21.57121331 20.07815474 23.23143491 23.13681609 22.57164672 19.22000509\n",
      " 18.25132795 19.26889239 14.32584849 17.74851596 16.73357926 16.82863839\n",
      " 13.84418848 11.89830804 15.27656017 15.2561017  16.8534441  17.21134241\n",
      " 10.88734001 18.75453141 15.27218564 14.35376796 16.45095338 14.91844912\n",
      " 28.46043077 36.52475184 22.22715997 21.7039908  20.97396331 24.40807984\n",
      " 21.53761268 24.11029978 28.75076796 26.9391018  27.62978396 35.28736296\n",
      " 27.90936225 22.91456055 26.36998532 35.14326443 33.09627459 30.91242579\n",
      " 33.48918283 33.28653396 31.5838973  41.76714503 35.31155836 29.76936812\n",
      " 38.67210616 42.58103648 43.58475422 23.86159411 25.82211455 24.35229351]\n"
     ]
    }
   ],
   "source": [
    "model = LinearRegression()\n",
    "model.fit(train_x, train_y)\n",
    "predicted_y = model.predict(new_x)\n",
    "print(predicted_y)"
   ]
  },
  {
   "cell_type": "code",
   "execution_count": 13,
   "metadata": {},
   "outputs": [],
   "source": [
    "import pandas as pd\n",
    "df = pd.DataFrame({'id': range(1, len(predicted_y) + 1), 'predict': predicted_y})\n",
    "df.to_csv('linear_regression_result.csv', index=False)"
   ]
  },
  {
   "cell_type": "code",
   "execution_count": 11,
   "metadata": {},
   "outputs": [],
   "source": [
    "import pandas as pd\n",
    "df = pd.DataFrame(predicted_y)\n",
    "df.to_csv('linear_regression_result.csv', index=False)\n"
   ]
  }
 ],
 "metadata": {
  "kernelspec": {
   "display_name": "learning",
   "language": "python",
   "name": "python3"
  },
  "language_info": {
   "codemirror_mode": {
    "name": "ipython",
    "version": 3
   },
   "file_extension": ".py",
   "mimetype": "text/x-python",
   "name": "python",
   "nbconvert_exporter": "python",
   "pygments_lexer": "ipython3",
   "version": "3.11.5"
  }
 },
 "nbformat": 4,
 "nbformat_minor": 2
}
