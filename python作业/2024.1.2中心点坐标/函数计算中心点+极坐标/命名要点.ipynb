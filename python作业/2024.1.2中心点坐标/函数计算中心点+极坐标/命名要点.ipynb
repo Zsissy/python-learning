{
 "cells": [
  {
   "cell_type": "markdown",
   "metadata": {},
   "source": [
    "# 命名要点\n",
    "命名的时候尽量避免用list1,listA，还有a,b,c,i\n",
    "## 应该如何命名\n",
    "格式：[]_[]\n",
    "其中，第一个[]表示数据类型，第二个[]表示具体的用途\n",
    "例如，经过split后读取的列表，不应该命名为listA，而应该命名为list_alldata_splited"
   ]
  },
  {
   "cell_type": "markdown",
   "metadata": {},
   "source": [
    "又例如，存放极坐标的列表，不应该命名为listr,应该命名为list_polar_coordinted"
   ]
  },
  {
   "cell_type": "markdown",
   "metadata": {},
   "source": [
    "又例如，读取的txt文件的存放变量的命名，不应该命名为txt1,应该命名为str_txt_read"
   ]
  }
 ],
 "metadata": {
  "language_info": {
   "name": "python"
  }
 },
 "nbformat": 4,
 "nbformat_minor": 2
}
