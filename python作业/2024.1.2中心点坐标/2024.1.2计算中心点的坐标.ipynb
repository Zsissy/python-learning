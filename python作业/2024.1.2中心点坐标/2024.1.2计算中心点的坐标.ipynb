{
 "cells": [
  {
   "cell_type": "code",
   "execution_count": 133,
   "id": "dbd7ca47",
   "metadata": {},
   "outputs": [
    {
     "name": "stdout",
     "output_type": "stream",
     "text": [
      "(216.46532008928574, 180.6636145089289)\n"
     ]
    }
   ],
   "source": [
    "txt1= open('/Users/zhengxiqiao/Documents/pythonlearning/flow02040000.txt').read()\n",
    "#txt1是变量 存储的内容\n",
    "listA=txt1.split()\n",
    "#print(listA)\n",
    "list1=[]\n",
    "for i in range(0,int(len(listA)/2)):\n",
    "    list1.append(listA[2*i])\n",
    "#print(list1)\n",
    "list2=[]\n",
    "for c in range(0,int(len(listA)/2)):\n",
    "    list2.append(listA[2*c+1])\n",
    "#print(list2)\n",
    "sum1=0\n",
    "#sum1是变量 存储的内容是数字\n",
    "for i in range(1,int(len(list1))+1):#整数？？？\n",
    "    x1=float(list1[i-1])\n",
    "    sum1=sum1+x1\n",
    "#print(sum1)\n",
    "sum2=0\n",
    "for c in range(1,int(len(list2))+1):\n",
    "    x2=float(list2[c-1])\n",
    "    sum2=sum2+x2\n",
    "#print(sum2)\n",
    "#set=(x3,y3)\n",
    "x3=sum1/len(list1)\n",
    "y3=sum2/len(list2)\n",
    "set=(x3,y3)\n",
    "print(set)"
   ]
  },
  {
   "cell_type": "code",
   "execution_count": 58,
   "id": "06d2ef73",
   "metadata": {},
   "outputs": [
    {
     "name": "stdout",
     "output_type": "stream",
     "text": [
      "[2, 4, 6, 8, 10]\n"
     ]
    }
   ],
   "source": [
    "#假设listA有十个元素，怎么只选出其中的奇数项 \n",
    "#循环\n",
    "list1=[1,2,3,4,5,6,7,8,9,10]\n",
    "list2=[]\n",
    "list2.append(list1[1])\n",
    "list2.append(list1[3])\n",
    "list2.append(list1[5])\n",
    "list2.append(list1[7])\n",
    "list2.append(list1[9])\n",
    "print(list2)"
   ]
  },
  {
   "cell_type": "code",
   "execution_count": 65,
   "id": "f5328c6e",
   "metadata": {},
   "outputs": [
    {
     "ename": "SyntaxError",
     "evalue": "invalid syntax (334103905.py, line 3)",
     "output_type": "error",
     "traceback": [
      "\u001b[0;36m  Cell \u001b[0;32mIn[65], line 3\u001b[0;36m\u001b[0m\n\u001b[0;31m    for x in range(0,int(len(list1)/2):\u001b[0m\n\u001b[0m                                      ^\u001b[0m\n\u001b[0;31mSyntaxError\u001b[0m\u001b[0;31m:\u001b[0m invalid syntax\n"
     ]
    }
   ],
   "source": [
    "list1=[1,2,3,4,5,6,7,8,9,10]\n",
    "list2=[]\n",
    "for x in range(0,int(len(list1)/2):\n",
    "    y=2*x\n",
    "    list2.append(list1[x])\n",
    "print(list2)"
   ]
  },
  {
   "cell_type": "code",
   "execution_count": null,
   "id": "0869718c",
   "metadata": {},
   "outputs": [],
   "source": []
  }
 ],
 "metadata": {
  "kernelspec": {
   "display_name": "Python 3 (ipykernel)",
   "language": "python",
   "name": "python3"
  },
  "language_info": {
   "codemirror_mode": {
    "name": "ipython",
    "version": 3
   },
   "file_extension": ".py",
   "mimetype": "text/x-python",
   "name": "python",
   "nbconvert_exporter": "python",
   "pygments_lexer": "ipython3",
   "version": "3.11.5"
  }
 },
 "nbformat": 4,
 "nbformat_minor": 5
}
