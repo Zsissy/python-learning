{
 "cells": [
  {
   "cell_type": "code",
   "execution_count": 1,
   "id": "f5e8d111",
   "metadata": {},
   "outputs": [
    {
     "ename": "SyntaxError",
     "evalue": "invalid character '（' (U+FF08) (2814918549.py, line 3)",
     "output_type": "error",
     "traceback": [
      "\u001b[0;36m  Cell \u001b[0;32mIn[1], line 3\u001b[0;36m\u001b[0m\n\u001b[0;31m    txt1=open（''）.read\u001b[0m\n\u001b[0m             ^\u001b[0m\n\u001b[0;31mSyntaxError\u001b[0m\u001b[0;31m:\u001b[0m invalid character '（' (U+FF08)\n"
     ]
    }
   ],
   "source": [
    "#以函数形式写出计算中心点坐标，输入文件路径，返回坐标 所以变量应该是文件路径\n",
    "def center_calculate(pass1):\n",
    "    #pass1代表文件路径\n",
    "    txt1=open（pass1）.read\n",
    "    listA=txt1.split（）\n",
    "    list1=[]\n",
    "    for i in range(0,int(len(listA)/2)):\n",
    "        list1.append(listA[2*i])\n",
    "    list2=[]\n",
    "    for c in range(0,int(len(listA)/2)):\n",
    "        list2.append(listA[2*c+1])\n",
    "    sum1=0\n",
    "    for i in range(1,int(len(list1))+1):#整数？？？\n",
    "        x1=float(list1[i-1])\n",
    "        sum1=sum1+x1\n",
    "    sum2=0\n",
    "    for c in range(1,int(len(list2))+1):\n",
    "        x2=float(list2[c-1])\n",
    "        sum2=sum2+x2\n",
    "    x3=sum1/len(list1)\n",
    "    y3=sum2/len(list2)\n",
    "    set=(x3,y3)\n",
    "    print(set)\n",
    "    center_calculate（x）=set"
   ]
  },
  {
   "cell_type": "code",
   "execution_count": 9,
   "id": "2db0ee6d",
   "metadata": {},
   "outputs": [],
   "source": [
    "#以函数形式写出计算中心点坐标，输入文件路径，返回坐标 所以变量应该是文件路径\n",
    "def read_txt(path1):\n",
    "    #pass1代表文件路径\n",
    "    filetxt= open(path1).read()\n",
    "    return filetxt"
   ]
  },
  {
   "cell_type": "code",
   "execution_count": 1,
   "id": "15dac4aa",
   "metadata": {},
   "outputs": [],
   "source": [
    "# () :  _\n",
    "def center_calculate(file1):\n",
    "    listA=file1.split()\n",
    "    listx=[]\n",
    "    for i in range(0,int(len(listA)/2)):\n",
    "        listx.append(listA[2*i])\n",
    "    listy=[]\n",
    "    for c in range(0,int(len(listA)/2)):\n",
    "        listy.append(listA[2*c+1])\n",
    "    sumx=0\n",
    "    for i in range(1,int(len(listx))+1):\n",
    "        x1=float(listx[i-1])\n",
    "        sumx=sumx+x1\n",
    "    sumy=0\n",
    "    for c in range(1,int(len(listy))+1):\n",
    "        y1=float(listy[c-1])\n",
    "        sumy=sumy+y1\n",
    "    cx=sumx/len(listx) \n",
    "    cy=sumy/len(listy)\n",
    "    return cx,cy"
   ]
  },
  {
   "cell_type": "code",
   "execution_count": 23,
   "id": "68421d76",
   "metadata": {},
   "outputs": [
    {
     "name": "stdout",
     "output_type": "stream",
     "text": [
      "(216.46532008928574, 180.6636145089289)\n"
     ]
    }
   ],
   "source": [
    "txt1=read_txt('/Users/zhengxiqiao/Documents/pythonlearning/python作业/2024.1.2中心点坐标/flow02040000.txt')\n",
    "x,y=center_calculate(txt1)\n",
    "print((x,y))\n"
   ]
  },
  {
   "cell_type": "code",
   "execution_count": null,
   "id": "9275175d",
   "metadata": {},
   "outputs": [],
   "source": []
  }
 ],
 "metadata": {
  "kernelspec": {
   "display_name": "Python 3 (ipykernel)",
   "language": "python",
   "name": "python3"
  },
  "language_info": {
   "codemirror_mode": {
    "name": "ipython",
    "version": 3
   },
   "file_extension": ".py",
   "mimetype": "text/x-python",
   "name": "python",
   "nbconvert_exporter": "python",
   "pygments_lexer": "ipython3",
   "version": "3.11.5"
  }
 },
 "nbformat": 4,
 "nbformat_minor": 5
}
