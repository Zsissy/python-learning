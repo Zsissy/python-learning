{
 "cells": [
  {
   "cell_type": "markdown",
   "id": "30469478",
   "metadata": {},
   "source": [
    "写一个每隔100次循环print一个循环多少次的程序"
   ]
  },
  {
   "cell_type": "code",
   "execution_count": 14,
   "id": "7619b55c",
   "metadata": {},
   "outputs": [
    {
     "name": "stdout",
     "output_type": "stream",
     "text": [
      "这是第100次循环\n",
      "这是第200次循环\n",
      "这是第300次循环\n",
      "这是第400次循环\n",
      "这是第500次循环\n"
     ]
    }
   ],
   "source": [
    "\n",
    "for i in range(0,500):\n",
    "    if (i+1)%100==0:\n",
    "        print(f\"这是第{i+1}次循环\")  "
   ]
  },
  {
   "cell_type": "code",
   "execution_count": null,
   "id": "e36b4d8e",
   "metadata": {},
   "outputs": [],
   "source": []
  }
 ],
 "metadata": {
  "kernelspec": {
   "display_name": "Python 3 (ipykernel)",
   "language": "python",
   "name": "python3"
  },
  "language_info": {
   "codemirror_mode": {
    "name": "ipython",
    "version": 3
   },
   "file_extension": ".py",
   "mimetype": "text/x-python",
   "name": "python",
   "nbconvert_exporter": "python",
   "pygments_lexer": "ipython3",
   "version": "3.11.5"
  }
 },
 "nbformat": 4,
 "nbformat_minor": 5
}
