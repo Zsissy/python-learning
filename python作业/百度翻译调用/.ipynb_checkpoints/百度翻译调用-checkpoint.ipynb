{
 "cells": [
  {
   "cell_type": "code",
   "execution_count": 20,
   "id": "42ffc394",
   "metadata": {},
   "outputs": [
    {
     "name": "stdout",
     "output_type": "stream",
     "text": [
      "请输入要翻译的内容: happy\n",
      "{\n",
      "    \"from\": \"en\",\n",
      "    \"to\": \"zh\",\n",
      "    \"trans_result\": [\n",
      "        {\n",
      "            \"src\": \"happy\",\n",
      "            \"dst\": \"快乐的\"\n",
      "        }\n",
      "    ]\n",
      "}\n"
     ]
    }
   ],
   "source": [
    "# -*- coding: utf-8 -*-\n",
    "\n",
    "# This code shows an example of text translation from English to Simplified-Chinese.\n",
    "# This code runs on Python 2.7.x and Python 3.x.\n",
    "# You may install `requests` to run this code: pip install requests\n",
    "# Please refer to `https://api.fanyi.baidu.com/doc/21` for complete api document\n",
    "\n",
    "import requests\n",
    "import random\n",
    "import json\n",
    "from hashlib import md5\n",
    "#content = input(\"请输入要翻译的内容: \")\n",
    "# Set your own appid/appkey.\n",
    "appid = '20240111001938355'\n",
    "appkey = 'N92d3bg0vvGu3POR83C1'\n",
    "\n",
    "# For list of language codes, please refer to `https://api.fanyi.baidu.com/doc/21`\n",
    "from_lang = 'en'\n",
    "to_lang =  'zh'\n",
    "\n",
    "endpoint = 'http://api.fanyi.baidu.com'\n",
    "path = '/api/trans/vip/translate'\n",
    "url = endpoint + path\n",
    "\n",
    "#query = 'Hello World! This is 1st paragraph.\\nThis is 2nd paragraph.'\n",
    "query = input(\"请输入要翻译的内容: \")\n",
    "# Generate salt and sign\n",
    "def make_md5(s, encoding='utf-8'):\n",
    "    return md5(s.encode(encoding)).hexdigest()\n",
    "\n",
    "salt = random.randint(32768, 65536)\n",
    "sign = make_md5(appid + query + str(salt) + appkey)\n",
    "\n",
    "# Build request\n",
    "headers = {'Content-Type': 'application/x-www-form-urlencoded'}\n",
    "payload = {'appid': appid, 'q': query, 'from': from_lang, 'to': to_lang, 'salt': salt, 'sign': sign}\n",
    "\n",
    "# Send request\n",
    "r = requests.post(url, params=payload, headers=headers)\n",
    "result = r.json()\n",
    "\n",
    "# Show response\n",
    "print(json.dumps(result,indent=4,  ensure_ascii=False))\n",
    "#print(result)\n",
    "#print(result.keys(),result.values())\n",
    "#print(result.values())\n"
   ]
  },
  {
   "cell_type": "code",
   "execution_count": 22,
   "id": "ebdb4a56",
   "metadata": {},
   "outputs": [
    {
     "name": "stdout",
     "output_type": "stream",
     "text": [
      "dict_keys(['from', 'to', 'trans_result'])\n",
      "[{'src': 'happy', 'dst': '快乐的'}]\n",
      "{'src': 'happy', 'dst': '快乐的'}\n",
      "快乐的\n"
     ]
    }
   ],
   "source": [
    "print(result.keys())\n",
    "print(result['trans_result'])\n",
    "len(result['trans_result'])\n",
    "print(result['trans_result'][0])\n",
    "print(result['trans_result'][0]['dst'])\n",
    "#result=result.values()"
   ]
  },
  {
   "cell_type": "code",
   "execution_count": null,
   "id": "f246546e",
   "metadata": {},
   "outputs": [],
   "source": []
  }
 ],
 "metadata": {
  "kernelspec": {
   "display_name": "Python 3 (ipykernel)",
   "language": "python",
   "name": "python3"
  },
  "language_info": {
   "codemirror_mode": {
    "name": "ipython",
    "version": 3
   },
   "file_extension": ".py",
   "mimetype": "text/x-python",
   "name": "python",
   "nbconvert_exporter": "python",
   "pygments_lexer": "ipython3",
   "version": "3.11.5"
  }
 },
 "nbformat": 4,
 "nbformat_minor": 5
}
