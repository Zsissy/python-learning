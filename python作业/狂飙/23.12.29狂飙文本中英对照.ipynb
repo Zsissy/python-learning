{
 "cells": [
  {
   "cell_type": "code",
   "execution_count": 53,
   "id": "082168b9",
   "metadata": {},
   "outputs": [
    {
     "name": "stdout",
     "output_type": "stream",
     "text": [
      "['第二十章\\u3000高启强的挣扎', \" Chapter 20 Gao Qiqiang's struggle\", '    小灵通专卖店已经结束营业，高氏兄弟在清理盘点。', 'PHS store has closed, gao brothers in cleaning up the inventory.']\n",
      "第二十章　高启强的挣扎\n",
      " Chapter 20 Gao Qiqiang's struggle\n",
      "    小灵通专卖店已经结束营业，高氏兄弟在清理盘点。\n",
      "PHS store has closed, gao brothers in cleaning up the inventory.\n"
     ]
    }
   ],
   "source": [
    "txt1=open(\"/Users/zhengxiqiao/Documents/pythonlearning/part2.txt\",encoding=\"gbk\").read()\n",
    "txt2=open(\"/Users/zhengxiqiao/Documents/pythonlearning/part2_translated.txt\",encoding=\"UTF-8\").read()\n",
    "#print(txt[1:70000])\n",
    "splited=txt1.split('\\n')\n",
    "#print(splited)\n",
    "list1=[]\n",
    "list1.append(splited[0])\n",
    "#print(list1)\n",
    "splited2=txt2.split('\\n')\n",
    "list1.append(splited2[0])\n",
    "list1.append(splited[2])\n",
    "list1.append(splited2[2])\n",
    "print(list1)\n",
    "result='\\n'.join(list1)\n",
    "print(result)"
   ]
  },
  {
   "cell_type": "code",
   "execution_count": 96,
   "id": "07ea37f8",
   "metadata": {
    "scrolled": false
   },
   "outputs": [],
   "source": [
    "txt1=open(\"/Users/zhengxiqiao/Documents/pythonlearning/part2.txt\",encoding=\"gbk\").read()\n",
    "#txt1,txt2是变量，变量中存储的是字符串\n",
    "txt2=open(\"/Users/zhengxiqiao/Documents/pythonlearning/part2_translated.txt\",encoding=\"UTF-8\").read()\n",
    "#print(txt[1:70000])\n",
    "\n",
    "new_splited=[] #new_splited代表的是变量 列表形式\n",
    "origin_lines = [line for line in txt1.split('\\n') if line.strip()]\n",
    "#origin_lines和translated_lines是变量，存储的数据类型是列表\n",
    "translated_lines=[line for line in txt2.split('\\n') if line.strip()]#记住这两行 去除所有空行的\n",
    "\n",
    "list1=[]\n",
    "#list1是变量，存储的数据类型是列表\n",
    "for i in range(0,int(len(origin_lines)/2)):#i是变量，数据类型为整数；len(origin_lines)的数据类型是整数\n",
    "    list1.append(splited[2*i])#splited[2*i]；splited2[2*i]的数据类型是字符串\n",
    "    list1.append(splited2[2*i])\n",
    "# print(list1)\n",
    "join1='\\n'.join(list1) \n",
    "#join1是变量，join（list1）是字符串\n",
    "# 定义要写入文本文件的字符串\n",
    "string_to_export = join1\n",
    " #string_to_export是变量名，join1是字符串\n",
    "# 打开或创建一个新的文本文件（若不存在则会自动创建）\n",
    "file = open(\"output.txt\", \"w\")\n",
    " #file是变量，存储字符串；output.txt是字符串，代表最终产生输出文件的文件名\n",
    "# 将字符串写入文件并关闭文件\n",
    "file.write(join1)\n",
    "file.close()\n"
   ]
  }
 ],
 "metadata": {
  "kernelspec": {
   "display_name": "Python 3 (ipykernel)",
   "language": "python",
   "name": "python3"
  },
  "language_info": {
   "codemirror_mode": {
    "name": "ipython",
    "version": 3
   },
   "file_extension": ".py",
   "mimetype": "text/x-python",
   "name": "python",
   "nbconvert_exporter": "python",
   "pygments_lexer": "ipython3",
   "version": "3.11.5"
  }
 },
 "nbformat": 4,
 "nbformat_minor": 5
}
