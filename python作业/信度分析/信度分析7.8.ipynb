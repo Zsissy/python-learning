{
 "cells": [
  {
   "cell_type": "code",
   "execution_count": 55,
   "metadata": {},
   "outputs": [
    {
     "name": "stdout",
     "output_type": "stream",
     "text": [
      "   QuestionID  answer1  answer2  answer3  answer4  answer5  answer6\n",
      "0           1        5        5        4        5        5        4\n",
      "1           2        4        4        2        1        3        2\n",
      "2           3        5        4        3        1        4        3\n",
      "3           4        4        4        3        2        2        4\n",
      "4           5        5        4        5        4        4        4\n"
     ]
    }
   ],
   "source": [
    "import pandas as pd\n",
    "\n",
    "df = pd.read_excel('/Users/zhengxiqiao/Documents/python-learning/python作业/信度分析/信度分析data.xlsx')\n",
    "print(df)"
   ]
  },
  {
   "cell_type": "code",
   "execution_count": 56,
   "metadata": {},
   "outputs": [],
   "source": [
    "#计算总共有几个问题，几个答案\n",
    "#计算每个question的均值和方差\n",
    "#计算每个答案的分数（对应xi）\n",
    "#计算xmean（所有xi的平均数）\n",
    "#计算所有数据的方差\n",
    "#计算alpha"
   ]
  },
  {
   "cell_type": "code",
   "execution_count": 57,
   "metadata": {},
   "outputs": [
    {
     "name": "stdout",
     "output_type": "stream",
     "text": [
      "5\n"
     ]
    }
   ],
   "source": [
    "row_number=len(df)# 总计有几行\n",
    "print(row_number)"
   ]
  },
  {
   "cell_type": "code",
   "execution_count": 58,
   "metadata": {},
   "outputs": [
    {
     "name": "stdout",
     "output_type": "stream",
     "text": [
      "7\n"
     ]
    }
   ],
   "source": [
    "colomn_number=df.shape[1]#总计有几列\n",
    "print(colomn_number)"
   ]
  },
  {
   "cell_type": "code",
   "execution_count": 59,
   "metadata": {},
   "outputs": [
    {
     "name": "stdout",
     "output_type": "stream",
     "text": [
      "[4, 4, 2, 1, 3, 2]\n"
     ]
    }
   ],
   "source": [
    "# 1.提取第一行\n",
    "row_1=df.loc[1]\n",
    "#print(row_1)\n",
    "row_1=row_1.tolist()\n",
    "#print(row_1)\n",
    "row_1.pop(0)\n",
    "print(row_1)"
   ]
  },
  {
   "cell_type": "code",
   "execution_count": 60,
   "metadata": {},
   "outputs": [
    {
     "name": "stdout",
     "output_type": "stream",
     "text": [
      "2.6666666666666665\n"
     ]
    }
   ],
   "source": [
    "#2.求row1的平均值和方差\n",
    "row_average=sum(row_1)/len(row_1)\n",
    "print(row_average)#即表格中第二行的u"
   ]
  },
  {
   "cell_type": "code",
   "execution_count": 61,
   "metadata": {},
   "outputs": [
    {
     "name": "stdout",
     "output_type": "stream",
     "text": [
      "1.2222222222222225\n"
     ]
    }
   ],
   "source": [
    "import numpy as np\n",
    "row_fangcha=np.var(row_1)\n",
    "print(row_fangcha)"
   ]
  },
  {
   "cell_type": "code",
   "execution_count": 62,
   "metadata": {},
   "outputs": [
    {
     "name": "stdout",
     "output_type": "stream",
     "text": [
      "[5, 5, 4, 5, 5, 4]\n",
      "[4, 4, 2, 1, 3, 2]\n",
      "[5, 4, 3, 1, 4, 3]\n",
      "[4, 4, 3, 2, 2, 4]\n",
      "[5, 4, 5, 4, 4, 4]\n",
      "[4.666666666666667, 2.6666666666666665, 3.3333333333333335, 3.1666666666666665, 4.333333333333333]\n",
      "[0.22222222222222224, 1.2222222222222225, 1.5555555555555556, 0.8055555555555555, 0.22222222222222224]\n"
     ]
    }
   ],
   "source": [
    "list_average=[]\n",
    "list_fangcha=[]\n",
    "for i in range(0,row_number):#求每一行的方差\n",
    "    row_1=df.loc[i]\n",
    "    row_1=row_1.tolist()\n",
    "    row_1.pop(0)\n",
    "    row_average=sum(row_1)/len(row_1)\n",
    "    row_fangcha=np.var(row_1)\n",
    "    list_average.append(row_average)\n",
    "    list_fangcha.append(row_fangcha)\n",
    "    print(row_1)\n",
    "print(list_average)\n",
    "print(list_fangcha)"
   ]
  },
  {
   "cell_type": "code",
   "execution_count": 64,
   "metadata": {},
   "outputs": [
    {
     "ename": "IndexError",
     "evalue": "list index out of range",
     "output_type": "error",
     "traceback": [
      "\u001b[0;31m---------------------------------------------------------------------------\u001b[0m",
      "\u001b[0;31mIndexError\u001b[0m                                Traceback (most recent call last)",
      "Cell \u001b[0;32mIn[64], line 4\u001b[0m\n\u001b[1;32m      2\u001b[0m sigma\u001b[38;5;241m=\u001b[39m\u001b[38;5;241m0\u001b[39m\n\u001b[1;32m      3\u001b[0m \u001b[38;5;28;01mfor\u001b[39;00m i \u001b[38;5;129;01min\u001b[39;00m \u001b[38;5;28mrange\u001b[39m(\u001b[38;5;241m0\u001b[39m,colomn_number):\n\u001b[0;32m----> 4\u001b[0m     sigma\u001b[38;5;241m=\u001b[39m(row_1[i]\u001b[38;5;241m-\u001b[39mlist_average[\u001b[38;5;241m0\u001b[39m])\u001b[38;5;241m*\u001b[39m\u001b[38;5;241m*\u001b[39m\u001b[38;5;241m2\u001b[39m\n\u001b[1;32m      5\u001b[0m     list_sigma\u001b[38;5;241m.\u001b[39mappend(sigma)\n\u001b[1;32m      6\u001b[0m \u001b[38;5;28mprint\u001b[39m(list_sigma)\n",
      "\u001b[0;31mIndexError\u001b[0m: list index out of range"
     ]
    }
   ],
   "source": [
    "list_sigma=[]\n",
    "sigma=0\n",
    "for i in range(0,colomn_number):\n",
    "    sigma=(row_1[i]-list_average[0])**2\n",
    "    list_sigma.append(sigma)\n",
    "print(list_sigma)"
   ]
  },
  {
   "cell_type": "code",
   "execution_count": null,
   "metadata": {},
   "outputs": [
    {
     "name": "stdout",
     "output_type": "stream",
     "text": [
      "0.2592592592592594\n"
     ]
    }
   ],
   "source": [
    "sum_sigma=sum(list_sigma)\n",
    "sigma_average=sum_sigma/6\n",
    "print(sigma_average)"
   ]
  },
  {
   "cell_type": "code",
   "execution_count": null,
   "metadata": {},
   "outputs": [
    {
     "name": "stdout",
     "output_type": "stream",
     "text": [
      "[5, 4, 5, 4, 5]\n"
     ]
    }
   ],
   "source": [
    "#求每一列的和\n",
    "colomn_1=df.iloc[:,1]\n",
    "#print(row_1)\n",
    "colomn_1=colomn_1.tolist()\n",
    "#print(row_1)\n",
    "print(colomn_1)"
   ]
  },
  {
   "cell_type": "code",
   "execution_count": null,
   "metadata": {},
   "outputs": [
    {
     "name": "stdout",
     "output_type": "stream",
     "text": [
      "23\n"
     ]
    }
   ],
   "source": [
    "sum_colomn=sum(colomn_1)\n",
    "print(sum_colomn)"
   ]
  },
  {
   "cell_type": "code",
   "execution_count": null,
   "metadata": {},
   "outputs": [
    {
     "name": "stdout",
     "output_type": "stream",
     "text": [
      "[15, 23, 21, 17, 13, 18, 17]\n"
     ]
    }
   ],
   "source": [
    "list_colomn=[]\n",
    "for i in range(0,colomn_number):\n",
    "    colomn_1=df.iloc[:,i]\n",
    "    colomn_1=colomn_1.tolist()\n",
    "    sum_colomn=sum(colomn_1)\n",
    "    list_colomn.append(sum_colomn)\n",
    "print(list_colomn)"
   ]
  },
  {
   "cell_type": "code",
   "execution_count": null,
   "metadata": {},
   "outputs": [
    {
     "name": "stdout",
     "output_type": "stream",
     "text": [
      "[23, 21, 17, 13, 18, 17]\n"
     ]
    }
   ],
   "source": [
    "del list_colomn[0]\n",
    "print(list_colomn)"
   ]
  },
  {
   "cell_type": "code",
   "execution_count": null,
   "metadata": {},
   "outputs": [
    {
     "name": "stdout",
     "output_type": "stream",
     "text": [
      "109\n"
     ]
    }
   ],
   "source": [
    "sum_colomn=sum(list_colomn)#计算总数xi\n",
    "print(sum_colomn)"
   ]
  },
  {
   "cell_type": "code",
   "execution_count": null,
   "metadata": {},
   "outputs": [
    {
     "name": "stdout",
     "output_type": "stream",
     "text": [
      "18.166666666666668\n"
     ]
    }
   ],
   "source": [
    "#计算平均数xmean\n",
    "x_mean=sum_colomn/len(list_colomn)\n",
    "print(x_mean)"
   ]
  },
  {
   "cell_type": "code",
   "execution_count": null,
   "metadata": {},
   "outputs": [
    {
     "name": "stdout",
     "output_type": "stream",
     "text": [
      "[23.3611111111111, 8.027777777777771, 1.3611111111111138, 26.694444444444457, 0.027777777777778172, 1.3611111111111138]\n"
     ]
    }
   ],
   "source": [
    "#计算所有数据的方差，即表格中的sigma total，是xi和xmean的关系\n",
    "list_sum=[]\n",
    "for i in range(0,len(list_colomn)): #xi\n",
    "    x_sum=(list_colomn[i]-x_mean)**2#先计算平方和\n",
    "    list_sum.append(x_sum)\n",
    "print(list_sum)\n"
   ]
  },
  {
   "cell_type": "code",
   "execution_count": null,
   "metadata": {},
   "outputs": [
    {
     "name": "stdout",
     "output_type": "stream",
     "text": [
      "10.13888888888889\n"
     ]
    }
   ],
   "source": [
    "sum_list=sum(list_sum)\n",
    "#print(sum_list)\n",
    "x_fangcha=sum_list/len(list_colomn)\n",
    "print(x_fangcha)"
   ]
  },
  {
   "cell_type": "code",
   "execution_count": null,
   "metadata": {},
   "outputs": [],
   "source": [
    "#计算alpha\n",
    "list_sigma=[]\n",
    "for i in range(0,len(list_average)):#即为表格中的U\n",
    "    sigma=( -list_average[i])"
   ]
  }
 ],
 "metadata": {
  "kernelspec": {
   "display_name": "learning",
   "language": "python",
   "name": "python3"
  },
  "language_info": {
   "codemirror_mode": {
    "name": "ipython",
    "version": 3
   },
   "file_extension": ".py",
   "mimetype": "text/x-python",
   "name": "python",
   "nbconvert_exporter": "python",
   "pygments_lexer": "ipython3",
   "version": "3.1.undefined"
  }
 },
 "nbformat": 4,
 "nbformat_minor": 2
}
