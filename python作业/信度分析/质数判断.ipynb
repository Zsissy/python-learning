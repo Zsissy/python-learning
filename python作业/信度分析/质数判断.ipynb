{
 "cells": [
  {
   "cell_type": "code",
   "execution_count": 1,
   "metadata": {},
   "outputs": [],
   "source": [
    "#质数的定义：一个大于1的自然数，除了1和他自身外，不能被其他自然数整除的数"
   ]
  },
  {
   "cell_type": "code",
   "execution_count": 2,
   "metadata": {},
   "outputs": [],
   "source": [
    "#输入任何数都能判断出是不是质数，print结果是或者不是"
   ]
  },
  {
   "cell_type": "code",
   "execution_count": 3,
   "metadata": {},
   "outputs": [],
   "source": [
    "def judge(mark):\n",
    "    mark=input()\n",
    "    if mark/2==0:#质数都是奇数\n",
    "        return False\n",
    "    for i in range(1,1000):#质数1，3，5，7，9 规律是除了1以外的数剩下都是2i-1（不过貌似这个规律没用到）\n",
    "        if mark/mark==0:\n",
    "            return True"
   ]
  },
  {
   "cell_type": "code",
   "execution_count": 4,
   "metadata": {},
   "outputs": [],
   "source": [
    "result=judge(3)\n",
    "print(result)"
   ]
  }
 ],
 "metadata": {
  "kernelspec": {
   "display_name": "learning",
   "language": "python",
   "name": "python3"
  },
  "language_info": {
   "codemirror_mode": {
    "name": "ipython",
    "version": 3
   },
   "file_extension": ".py",
   "mimetype": "text/x-python",
   "name": "python",
   "nbconvert_exporter": "python",
   "pygments_lexer": "ipython3",
   "version": "3.1.undefined"
  }
 },
 "nbformat": 4,
 "nbformat_minor": 2
}
