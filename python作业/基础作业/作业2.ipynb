{
 "cells": [
  {
   "cell_type": "markdown",
   "id": "ed946c49",
   "metadata": {},
   "source": [
    "# 1定义一个变量，这个变量的值是你输入的值，然后将其加2输出（注意输入的值的类型）"
   ]
  },
  {
   "cell_type": "code",
   "execution_count": 54,
   "id": "84e460dd",
   "metadata": {},
   "outputs": [
    {
     "name": "stdout",
     "output_type": "stream",
     "text": [
      "4\n"
     ]
    }
   ],
   "source": [
    "def bianliang(x):\n",
    "    y = x +2\n",
    "    print(y)\n",
    "bianliang(2)"
   ]
  },
  {
   "cell_type": "markdown",
   "id": "44dc212c",
   "metadata": {},
   "source": [
    "# 2 条件语句，写一个判断，初始条件a=9，b=0，如果a>9且b<1 返回“好的”；如果a=9且b<1，返回“真不错”；其他的返回“再见”"
   ]
  },
  {
   "cell_type": "code",
   "execution_count": 15,
   "id": "e0d210e6",
   "metadata": {},
   "outputs": [
    {
     "name": "stdout",
     "output_type": "stream",
     "text": [
      "真不错\n"
     ]
    }
   ],
   "source": [
    "#多个条件\n",
    "a = 9 \n",
    "b = 0\n",
    "if  a>9 and b<1:\n",
    "    print('好的')\n",
    "if  a == 9 and b < 1:\n",
    "    print('真不错')\n",
    "else:\n",
    "    print('再见')"
   ]
  },
  {
   "cell_type": "markdown",
   "id": "ae7d683f",
   "metadata": {},
   "source": [
    "# 3 写个循环语句遍历（0，100)中所有的数并同时打印出其1/2的值（一次循环输出两个值也就是）"
   ]
  },
  {
   "cell_type": "code",
   "execution_count": null,
   "id": "2f53923a",
   "metadata": {},
   "outputs": [],
   "source": []
  },
  {
   "cell_type": "markdown",
   "id": "d179c36f",
   "metadata": {},
   "source": [
    "# 4 定义一个函数名为aini的函数，可以对数值进行求算术平方根的操作，并把这个函数应用于数值3"
   ]
  },
  {
   "cell_type": "code",
   "execution_count": null,
   "id": "c7dcfa27",
   "metadata": {},
   "outputs": [],
   "source": [
    "def aini(x):"
   ]
  },
  {
   "cell_type": "markdown",
   "id": "04f1abcd",
   "metadata": {},
   "source": [
    "# 5 定义一个函数名为aini的函数，可以对数值进行求算术平方根的操作，并把这个函数应用于数值3。利用上述函数求$a=\\sqrt{2 }+5$"
   ]
  },
  {
   "cell_type": "code",
   "execution_count": null,
   "id": "3083cda3",
   "metadata": {},
   "outputs": [],
   "source": []
  },
  {
   "cell_type": "markdown",
   "id": "cd72c22b",
   "metadata": {},
   "source": [
    "# 6 定义一个列表内涵依次有“宝贝”，520，“爱你”三个元素，并索引第一个元素"
   ]
  },
  {
   "cell_type": "code",
   "execution_count": 18,
   "id": "df990f85",
   "metadata": {},
   "outputs": [
    {
     "name": "stdout",
     "output_type": "stream",
     "text": [
      "宝贝\n"
     ]
    }
   ],
   "source": [
    "list_1 = ['宝贝','520','爱你']\n",
    "print(list_1[0])"
   ]
  },
  {
   "cell_type": "markdown",
   "id": "60e077be",
   "metadata": {},
   "source": [
    "# 7 在6中列表尾部加入元素“真的”，在“宝贝”和520之间插入元素“我喜欢你”"
   ]
  },
  {
   "cell_type": "code",
   "execution_count": 64,
   "id": "4bf7d1fa",
   "metadata": {},
   "outputs": [
    {
     "name": "stdout",
     "output_type": "stream",
     "text": [
      "原始列表:  ['宝贝', '520', '爱你', '真的', '真的', '真的', '真的', '真的', '真的']\n",
      "['宝贝', '520', '爱你', '真的', '真的', '真的', '真的', '真的', '真的', '真的']\n"
     ]
    }
   ],
   "source": [
    "print('原始列表: ',list_1)\n",
    "list_1.append('真的')\n",
    "print(list_1)"
   ]
  },
  {
   "cell_type": "code",
   "execution_count": 25,
   "id": "835a3479",
   "metadata": {},
   "outputs": [
    {
     "name": "stdout",
     "output_type": "stream",
     "text": [
      "原始列表 ['宝贝', '520', '爱你', '真的', '真的', '真的']\n"
     ]
    },
    {
     "ename": "TypeError",
     "evalue": "'str' object cannot be interpreted as an integer",
     "output_type": "error",
     "traceback": [
      "\u001b[0;31m---------------------------------------------------------------------------\u001b[0m",
      "\u001b[0;31mTypeError\u001b[0m                                 Traceback (most recent call last)",
      "Cell \u001b[0;32mIn[25], line 2\u001b[0m\n\u001b[1;32m      1\u001b[0m \u001b[38;5;28mprint\u001b[39m(\u001b[38;5;124m'\u001b[39m\u001b[38;5;124m原始列表\u001b[39m\u001b[38;5;124m'\u001b[39m,list_1)\n\u001b[0;32m----> 2\u001b[0m list_1\u001b[38;5;241m.\u001b[39minsert(\u001b[38;5;124m'\u001b[39m\u001b[38;5;124m宝贝\u001b[39m\u001b[38;5;124m'\u001b[39m,\u001b[38;5;124m'\u001b[39m\u001b[38;5;124minserted_我喜欢你\u001b[39m\u001b[38;5;124m'\u001b[39m)\n",
      "\u001b[0;31mTypeError\u001b[0m: 'str' object cannot be interpreted as an integer"
     ]
    }
   ],
   "source": [
    "print('原始列表',list_1)\n",
    "list_1.insert('宝贝','inserted_我喜欢你')\n"
   ]
  },
  {
   "cell_type": "markdown",
   "id": "1151726e",
   "metadata": {},
   "source": [
    "# 8 把7中列表的“真的”删除，并且需要保存“真的”这个被删除元素于变量c中"
   ]
  },
  {
   "cell_type": "code",
   "execution_count": 27,
   "id": "64e89534",
   "metadata": {},
   "outputs": [
    {
     "name": "stdout",
     "output_type": "stream",
     "text": [
      "['宝贝', '520', '爱你', '真的']\n"
     ]
    }
   ],
   "source": [
    "c = '真的'\n",
    "if c in list_1:\n",
    "    list_1.remove (c)\n",
    "    print(list_1)"
   ]
  },
  {
   "cell_type": "markdown",
   "id": "d8014ea3",
   "metadata": {},
   "source": [
    "# 9 创建一个字典，目录key依次为key1，key2，key3，分别对应9，2，4三个值"
   ]
  },
  {
   "cell_type": "code",
   "execution_count": 31,
   "id": "3a23b07d",
   "metadata": {},
   "outputs": [],
   "source": [
    "dict_1 = {'key1' :9,\n",
    "          'key2' :2,\n",
    "          'key3' :4}"
   ]
  },
  {
   "cell_type": "markdown",
   "id": "7f7ef6a3",
   "metadata": {},
   "source": [
    "# 10 索引得到key3的值"
   ]
  },
  {
   "cell_type": "code",
   "execution_count": 36,
   "id": "4f1b9411",
   "metadata": {},
   "outputs": [
    {
     "data": {
      "text/plain": [
       "4"
      ]
     },
     "execution_count": 36,
     "metadata": {},
     "output_type": "execute_result"
    }
   ],
   "source": [
    "dict_1['key3']"
   ]
  },
  {
   "cell_type": "markdown",
   "id": "0f811b09",
   "metadata": {},
   "source": [
    "# 11 在上述字典添加一个内容key4，值为520，然后删掉key2这组内容，同时把key1的值改成1314"
   ]
  },
  {
   "cell_type": "code",
   "execution_count": 42,
   "id": "0bf475ae",
   "metadata": {},
   "outputs": [
    {
     "data": {
      "text/plain": [
       "{'key1': 9, 'key2': 2, 'key3': 4, 'key4': '520'}"
      ]
     },
     "execution_count": 42,
     "metadata": {},
     "output_type": "execute_result"
    }
   ],
   "source": [
    "dict_1['key4'] = '520'\n",
    "dict_1"
   ]
  },
  {
   "cell_type": "code",
   "execution_count": 43,
   "id": "1467ee2a",
   "metadata": {},
   "outputs": [
    {
     "data": {
      "text/plain": [
       "{'key1': 9, 'key3': 4, 'key4': '520'}"
      ]
     },
     "execution_count": 43,
     "metadata": {},
     "output_type": "execute_result"
    }
   ],
   "source": [
    "del dict_1['key2']\n",
    "dict_1"
   ]
  },
  {
   "cell_type": "code",
   "execution_count": 45,
   "id": "b525d9ff",
   "metadata": {},
   "outputs": [
    {
     "data": {
      "text/plain": [
       "{'key1': '1314', 'key3': 4, 'key4': '520'}"
      ]
     },
     "execution_count": 45,
     "metadata": {},
     "output_type": "execute_result"
    }
   ],
   "source": [
    "dict_1['key1'] = '1314'\n",
    "dict_1"
   ]
  },
  {
   "cell_type": "code",
   "execution_count": null,
   "id": "06ca9a88",
   "metadata": {},
   "outputs": [],
   "source": []
  }
 ],
 "metadata": {
  "kernelspec": {
   "display_name": "Python 3 (ipykernel)",
   "language": "python",
   "name": "python3"
  },
  "language_info": {
   "codemirror_mode": {
    "name": "ipython",
    "version": 3
   },
   "file_extension": ".py",
   "mimetype": "text/x-python",
   "name": "python",
   "nbconvert_exporter": "python",
   "pygments_lexer": "ipython3",
   "version": "3.11.5"
  }
 },
 "nbformat": 4,
 "nbformat_minor": 5
}
