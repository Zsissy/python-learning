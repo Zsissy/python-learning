{
 "cells": [
  {
   "cell_type": "code",
   "execution_count": null,
   "id": "cb42302d",
   "metadata": {},
   "outputs": [],
   "source": [
    "Try to run supervised learning on iris data set"
   ]
  },
  {
   "cell_type": "code",
   "execution_count": 13,
   "id": "6eb63008",
   "metadata": {},
   "outputs": [
    {
     "name": "stdout",
     "output_type": "stream",
     "text": [
      "{'algorithm': 'auto', 'leaf_size': 30, 'metric': 'minkowski', 'metric_params': None, 'n_jobs': None, 'n_neighbors': 5, 'p': 2, 'weights': 'uniform'}\n",
      "              precision    recall  f1-score   support\n",
      "\n",
      "           0       1.00      1.00      1.00        16\n",
      "           1       1.00      0.94      0.97        18\n",
      "           2       0.92      1.00      0.96        11\n",
      "\n",
      "    accuracy                           0.98        45\n",
      "   macro avg       0.97      0.98      0.98        45\n",
      "weighted avg       0.98      0.98      0.98        45\n",
      "\n"
     ]
    }
   ],
   "source": [
    "import pandas as pd\n",
    "import numpy as np\n",
    "from sklearn.datasets import load_iris\n",
    "\n",
    "\n",
    "iris = load_iris()\n",
    "\n",
    "#print(iris)\n",
    "pd.DataFrame(iris.data, columns = iris.feature_names)\n",
    "x = iris.data\n",
    "y = iris.target\n",
    "train_x,test_x,train_y,test_y = train_test_split(x,y,test_size=0.3,random_state = 0)\n",
    "print(knn().get_params())\n",
    "knn_clf = knn(n_neighbors = 20).fit(train_x,train_y)\n",
    "from sklearn.metrics import accuracy_score\n",
    "train_score = knn_clf.score(train_x,train_y)\n",
    "pred_test = knn_clf.predict(test_x)\n",
    "test_score = accuracy_score(test_y,pred_test)\n",
    "train_score, test_score\n",
    "print(classification_report(test_y, knn_clf.predict(test_x)))\n"
   ]
  },
  {
   "cell_type": "code",
   "execution_count": 5,
   "id": "4448f859",
   "metadata": {},
   "outputs": [],
   "source": [
    "import pandas as pd\n",
    "import numpy as np\n",
    "from sklearn.datasets import load_iris\n",
    "\n",
    "\n",
    "iris = load_iris()\n",
    "\n",
    "#print(iris)\n",
    "pd.DataFrame(iris.data, columns = iris.feature_names).head(5)\n",
    "x = iris.data\n",
    "y = iris.target\n",
    "train_x,test_x,train_y,test_y = train_test_split(x,y,test_size=0.3,random_state = 0)\n",
    "print(knn().get_params())\n",
    "knn_clf = knn(n_neighbors = 20).fit(train_x,train_y)"
   ]
  },
  {
   "cell_type": "code",
   "execution_count": null,
   "id": "66400e19",
   "metadata": {},
   "outputs": [],
   "source": [
    "y_pred_proba = knn_clf.predict_proba(test_x)[::,1]\n",
    "fpr, tpr, _ = roc_curve(test_y, y_pred_proba)\n",
    "#create ROC curve\n",
    "plt.plot(fpr,tpr)\n",
    "plt.ylabel('True Positive Rate')\n",
    "plt.xlabel('False Positive Rate')\n",
    "plt.show()"
   ]
  },
  {
   "cell_type": "code",
   "execution_count": null,
   "id": "fab281da",
   "metadata": {},
   "outputs": [],
   "source": []
  }
 ],
 "metadata": {
  "kernelspec": {
   "display_name": "Python 3 (ipykernel)",
   "language": "python",
   "name": "python3"
  },
  "language_info": {
   "codemirror_mode": {
    "name": "ipython",
    "version": 3
   },
   "file_extension": ".py",
   "mimetype": "text/x-python",
   "name": "python",
   "nbconvert_exporter": "python",
   "pygments_lexer": "ipython3",
   "version": "3.11.5"
  }
 },
 "nbformat": 4,
 "nbformat_minor": 5
}
