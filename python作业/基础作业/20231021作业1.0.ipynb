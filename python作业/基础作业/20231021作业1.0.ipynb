{
 "cells": [
  {
   "cell_type": "markdown",
   "id": "b7359ce8",
   "metadata": {},
   "source": [
    "# 2023年10月21日作业1"
   ]
  },
  {
   "cell_type": "markdown",
   "id": "07133700",
   "metadata": {},
   "source": [
    "## 1. 给learning里安装StatsModels包"
   ]
  },
  {
   "cell_type": "markdown",
   "id": "0a114ecb",
   "metadata": {},
   "source": [
    "## 2.在下方计算3加减乘除2"
   ]
  },
  {
   "cell_type": "code",
   "execution_count": 1,
   "id": "670130e0",
   "metadata": {},
   "outputs": [
    {
     "data": {
      "text/plain": [
       "5"
      ]
     },
     "execution_count": 1,
     "metadata": {},
     "output_type": "execute_result"
    }
   ],
   "source": [
    "3 + 2"
   ]
  },
  {
   "cell_type": "code",
   "execution_count": 2,
   "id": "42a97013",
   "metadata": {},
   "outputs": [
    {
     "data": {
      "text/plain": [
       "1"
      ]
     },
     "execution_count": 2,
     "metadata": {},
     "output_type": "execute_result"
    }
   ],
   "source": [
    "3 - 2"
   ]
  },
  {
   "cell_type": "code",
   "execution_count": 3,
   "id": "8e7446d9",
   "metadata": {},
   "outputs": [
    {
     "data": {
      "text/plain": [
       "6"
      ]
     },
     "execution_count": 3,
     "metadata": {},
     "output_type": "execute_result"
    }
   ],
   "source": [
    "3 * 2"
   ]
  },
  {
   "cell_type": "code",
   "execution_count": 5,
   "id": "8c48b12c",
   "metadata": {},
   "outputs": [
    {
     "data": {
      "text/plain": [
       "1.5"
      ]
     },
     "execution_count": 5,
     "metadata": {},
     "output_type": "execute_result"
    }
   ],
   "source": [
    "3 / 2"
   ]
  },
  {
   "cell_type": "markdown",
   "id": "3dd3029a",
   "metadata": {},
   "source": [
    "## 3.在下方写代码计算9的10次方"
   ]
  },
  {
   "cell_type": "code",
   "execution_count": 6,
   "id": "76960098",
   "metadata": {},
   "outputs": [
    {
     "data": {
      "text/plain": [
       "3486784401"
      ]
     },
     "execution_count": 6,
     "metadata": {},
     "output_type": "execute_result"
    }
   ],
   "source": [
    "9 ** 10"
   ]
  },
  {
   "cell_type": "markdown",
   "id": "a9992954",
   "metadata": {},
   "source": [
    "## 4.在下方用代码计算5除以4的余数"
   ]
  },
  {
   "cell_type": "code",
   "execution_count": 7,
   "id": "fb589e8c",
   "metadata": {},
   "outputs": [
    {
     "data": {
      "text/plain": [
       "1"
      ]
     },
     "execution_count": 7,
     "metadata": {},
     "output_type": "execute_result"
    }
   ],
   "source": [
    "5 % 4"
   ]
  },
  {
   "cell_type": "markdown",
   "id": "606fa352",
   "metadata": {},
   "source": [
    "## 5. 在下方写代码计算5除以4的商（带余数的那种\n"
   ]
  },
  {
   "cell_type": "code",
   "execution_count": 21,
   "id": "054911fc",
   "metadata": {},
   "outputs": [
    {
     "data": {
      "text/plain": [
       "1.0"
      ]
     },
     "execution_count": 21,
     "metadata": {},
     "output_type": "execute_result"
    }
   ],
   "source": [
    "(5-5%4)/4"
   ]
  },
  {
   "cell_type": "markdown",
   "id": "dec8ceb8",
   "metadata": {},
   "source": [
    "## 6. 用代码在下方写出520，52.0，'我爱你'的类型\n"
   ]
  },
  {
   "cell_type": "code",
   "execution_count": 8,
   "id": "d6c6de42",
   "metadata": {
    "scrolled": true
   },
   "outputs": [
    {
     "data": {
      "text/plain": [
       "int"
      ]
     },
     "execution_count": 8,
     "metadata": {},
     "output_type": "execute_result"
    }
   ],
   "source": [
    "type(520)"
   ]
  },
  {
   "cell_type": "code",
   "execution_count": 9,
   "id": "af764581",
   "metadata": {},
   "outputs": [
    {
     "data": {
      "text/plain": [
       "float"
      ]
     },
     "execution_count": 9,
     "metadata": {},
     "output_type": "execute_result"
    }
   ],
   "source": [
    "type(52.0)"
   ]
  },
  {
   "cell_type": "code",
   "execution_count": 10,
   "id": "3a56e415",
   "metadata": {},
   "outputs": [
    {
     "data": {
      "text/plain": [
       "str"
      ]
     },
     "execution_count": 10,
     "metadata": {},
     "output_type": "execute_result"
    }
   ],
   "source": [
    "type('我爱你')"
   ]
  },
  {
   "cell_type": "markdown",
   "id": "a343341e",
   "metadata": {},
   "source": [
    "## 7. 用代码在下方打印出\n",
    " 我永远爱你\n",
    " 我的宝贝\n"
   ]
  },
  {
   "cell_type": "code",
   "execution_count": 23,
   "id": "a00a98e7",
   "metadata": {},
   "outputs": [
    {
     "name": "stdout",
     "output_type": "stream",
     "text": [
      "我永远爱你 \n",
      " 我的宝贝\n"
     ]
    }
   ],
   "source": [
    "print('我永远爱你 \\n 我的宝贝')"
   ]
  },
  {
   "cell_type": "markdown",
   "id": "71a9951b",
   "metadata": {},
   "source": [
    "## 8. 用代码在下方打印出\n",
    "我永远爱你宝贝\n"
   ]
  },
  {
   "cell_type": "code",
   "execution_count": 12,
   "id": "72c7367e",
   "metadata": {},
   "outputs": [
    {
     "name": "stdout",
     "output_type": "stream",
     "text": [
      "我永远爱你宝贝\n"
     ]
    }
   ],
   "source": [
    "print('我永远爱你宝贝')"
   ]
  },
  {
   "cell_type": "markdown",
   "id": "8795384d",
   "metadata": {},
   "source": [
    "## 9.用代码在下方计算\"Tomorrow is dating day\"的长度\n"
   ]
  },
  {
   "cell_type": "code",
   "execution_count": 14,
   "id": "bd6febf4",
   "metadata": {},
   "outputs": [
    {
     "data": {
      "text/plain": [
       "22"
      ]
     },
     "execution_count": 14,
     "metadata": {},
     "output_type": "execute_result"
    }
   ],
   "source": [
    "len(\"Tomorrow is dating day\")"
   ]
  },
  {
   "cell_type": "markdown",
   "id": "26ddd18b",
   "metadata": {},
   "source": [
    "## 10. 判断date和Date是否相等用代码在下方实现"
   ]
  },
  {
   "cell_type": "code",
   "execution_count": 16,
   "id": "bee075a1",
   "metadata": {},
   "outputs": [
    {
     "data": {
      "text/plain": [
       "False"
      ]
     },
     "execution_count": 16,
     "metadata": {},
     "output_type": "execute_result"
    }
   ],
   "source": [
    "'date' == 'Date'"
   ]
  },
  {
   "cell_type": "code",
   "execution_count": null,
   "id": "23550c25",
   "metadata": {},
   "outputs": [],
   "source": []
  }
 ],
 "metadata": {
  "kernelspec": {
   "display_name": "Python 3 (ipykernel)",
   "language": "python",
   "name": "python3"
  },
  "language_info": {
   "codemirror_mode": {
    "name": "ipython",
    "version": 3
   },
   "file_extension": ".py",
   "mimetype": "text/x-python",
   "name": "python",
   "nbconvert_exporter": "python",
   "pygments_lexer": "ipython3",
   "version": "3.11.5"
  }
 },
 "nbformat": 4,
 "nbformat_minor": 5
}
