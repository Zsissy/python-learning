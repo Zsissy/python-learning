{
 "cells": [
  {
   "cell_type": "code",
   "execution_count": 24,
   "id": "4ac13373",
   "metadata": {},
   "outputs": [
    {
     "name": "stdout",
     "output_type": "stream",
     "text": [
      "    降维后能保持的信息（%)  主成分分析后的维度\n",
      "0           0.01          1\n",
      "1           0.02          1\n",
      "2           0.03          1\n",
      "3           0.04          1\n",
      "4           0.05          1\n",
      "..           ...        ...\n",
      "94          0.95         29\n",
      "95          0.96         31\n",
      "96          0.97         34\n",
      "97          0.98         37\n",
      "98          0.99         41\n",
      "\n",
      "[99 rows x 2 columns]\n"
     ]
    },
    {
     "data": {
      "text/plain": [
       "<Figure size 2000x1200 with 0 Axes>"
      ]
     },
     "metadata": {},
     "output_type": "display_data"
    },
    {
     "data": {
      "image/png": "[encoded data removed]",
      "text/plain": [
       "<Figure size 640x480 with 1 Axes>"
      ]
     },
     "metadata": {},
     "output_type": "display_data"
    }
   ],
   "source": [
    "# 本代码用的数据集来自sklearn内部\n",
    "from sklearn.datasets import load_digits\n",
    "digits = load_digits()\n",
    "from sklearn.decomposition import PCA\n",
    "import numpy as np\n",
    "import pandas as pd\n",
    "list_1 = []\n",
    "list_2 = []\n",
    "for n_components in np.arange(0.01,1,0.01):\n",
    "    pca = PCA(n_components)\n",
    "    projected = pca.fit_transform(digits.data)\n",
    "    #print(\"current n_components: \",n_components)\n",
    "    #print(\"projected shape: \",projected.shape[1])\n",
    "    list_1.append(n_components) #'降维后能保持的信息（%)'          \n",
    "    list_2.append(projected.shape[1])#'主成分分析后的维度'\n",
    "#print(list_1)\n",
    "#print(list_2)\n",
    "df1 = pd.DataFrame({'降维后能保持的信息（%)':list_1,\n",
    "                   '主成分分析后的维度':list_2})\n",
    "print(df1)\n",
    "# 导入绘图模块\n",
    "import matplotlib  #https://www.matplotlib.org.cn/tutorials/#%E5%BA%8F%E8%A8%80\n",
    "import matplotlib.pyplot as plt # 导入模块 matplotlib.pyplot，并简写成 plt, 这样之后不需要输入一长串\n",
    "\n",
    "import warnings\n",
    "warnings.filterwarnings(\"ignore\") # 一些警告信息可以不保留\n",
    "\n",
    "fig = plt.figure(figsize = (20, 12)) # 此处的 12 和 8 的单位是inch，1 inch 约等于 2.5 cm\n",
    "fig, axes = plt.subplots(1,1) # 在画布上建立一个 1*1 的格子\n",
    "# 这个写法和平时有点不一样：把元组（tuple）还原为两个variable的过程\n",
    "plt.plot(list_2, list_1) # 绘制曲线\n",
    "plt.show() # show 出来的就是 fig"
   ]
  },
  {
   "cell_type": "code",
   "execution_count": null,
   "id": "42d8be0e",
   "metadata": {},
   "outputs": [],
   "source": []
  },
  {
   "cell_type": "code",
   "execution_count": 2,
   "id": "603f1104",
   "metadata": {},
   "outputs": [
    {
     "data": {
      "text/plain": [
       "5"
      ]
     },
     "execution_count": 2,
     "metadata": {},
     "output_type": "execute_result"
    }
   ],
   "source": [
    "# 给列表添加元素\n",
    "# 比较以下多个输出\n",
    "print('原始列表：', list_1)\n",
    "\n",
    "list_1.append('Python') # append + 一个元素\n",
    "print(list_1)\n",
    "\n",
    "list_1.append(['how', 'are', 'you']) # append + 一个列表\n",
    "print(list_1)\n",
    "\n",
    "print(len(list_1))\n"
   ]
  },
  {
   "cell_type": "code",
   "execution_count": 3,
   "id": "9bb0450c",
   "metadata": {},
   "outputs": [
    {
     "data": {
      "text/plain": [
       "1"
      ]
     },
     "execution_count": 3,
     "metadata": {},
     "output_type": "execute_result"
    }
   ],
   "source": [
    "df1 = pd.DataFrame({'ID':['a', 'b', 'c', 'd', 'e', 'f'],\n",
    "                   'age':[20, 15, 28, 47, 35, 66],\n",
    "                   'gender':[1, 1, 0, 0, 1, 0]})\n",
    "df2 = pd.DataFrame({'ID':['a', 'b', 'c', 'd', 'g'],\n",
    "                   'preference':['apple', 'orange', 'pineapple', 'lemon', 'watermelon']})\n",
    "\n",
    "\n",
    "                           "
   ]
  },
  {
   "cell_type": "code",
   "execution_count": 16,
   "id": "fa0a1f95",
   "metadata": {},
   "outputs": [
    {
     "name": "stdout",
     "output_type": "stream",
     "text": [
      "   student id               age\n",
      "0  *list[int]  *list[list[int]]\n"
     ]
    },
    {
     "name": "stderr",
     "output_type": "stream",
     "text": [
      "<>:6: SyntaxWarning: list indices must be integers or slices, not tuple; perhaps you missed a comma?\n",
      "<>:6: SyntaxWarning: list indices must be integers or slices, not tuple; perhaps you missed a comma?\n",
      "/var/folders/fk/vqv00h7150gg0bdt7w3152j40000gn/T/ipykernel_87698/2516212581.py:6: SyntaxWarning: list indices must be integers or slices, not tuple; perhaps you missed a comma?\n",
      "  [3,11]\n"
     ]
    }
   ],
   "source": [
    "\n",
    "import pandas as pd\n",
    "def createDataframe(student_data: list[list[int]]):\n",
    "    list[list[int]] = \n",
    "df1 = pd.DataFrame()\n",
    "print(df1)"
   ]
  },
  {
   "cell_type": "code",
   "execution_count": 1,
   "id": "12a0d858",
   "metadata": {},
   "outputs": [
    {
     "name": "stdout",
     "output_type": "stream",
     "text": [
      "   student_id  age\n",
      "0           1   15\n",
      "1           2   11\n",
      "2           3   11\n",
      "3           4   20\n"
     ]
    }
   ],
   "source": [
    "\n",
    "import pandas as pd\n",
    "list_1 = [1,2,3,4]\n",
    "list_2 = [15,11,11,20]\n",
    "df1 = pd.DataFrame({'student_id':list_1,\n",
    "                   'age':list_2})\n",
    "print(df1)"
   ]
  },
  {
   "cell_type": "code",
   "execution_count": 2,
   "id": "1ce82be5",
   "metadata": {},
   "outputs": [
    {
     "ename": "IndentationError",
     "evalue": "expected an indented block after 'for' statement on line 7 (2092700876.py, line 8)",
     "output_type": "error",
     "traceback": [
      "\u001b[0;36m  Cell \u001b[0;32mIn[2], line 8\u001b[0;36m\u001b[0m\n\u001b[0;31m    for y in range(len(players[0])):\u001b[0m\n\u001b[0m    ^\u001b[0m\n\u001b[0;31mIndentationError\u001b[0m\u001b[0;31m:\u001b[0m expected an indented block after 'for' statement on line 7\n"
     ]
    }
   ],
   "source": [
    "\n",
    "import pandas as pd\n",
    "def getDataframeSize(players: pd.DataFrame):\n",
    "    num_rows = len(players)\n",
    "    num_col = len(players[0])\n",
    "    players = x\n",
    "    players[0]= y\n",
    "    for x in range(len(players)):\n",
    "    for y in range(len(players[0])):\n",
    "    df_1 = pd.DataframeSize('rows':x,'col':y)\n",
    "    print(num_rows)\n",
    "    print(num_col)\n"
   ]
  },
  {
   "cell_type": "code",
   "execution_count": 3,
   "id": "fb788847",
   "metadata": {},
   "outputs": [],
   "source": [
    "import pandas as pd\n",
    "def getDataframeSize(players: pd.DataFrame):\n",
    "    num_col=len(players.columns)\n",
    "    num_rows=len(players[players.columns[0]])\n",
    "    return[num_col,num_rows]\n"
   ]
  },
  {
   "cell_type": "code",
   "execution_count": null,
   "id": "9e43163a",
   "metadata": {},
   "outputs": [],
   "source": []
  }
 ],
 "metadata": {
  "kernelspec": {
   "display_name": "Python 3 (ipykernel)",
   "language": "python",
   "name": "python3"
  },
  "language_info": {
   "codemirror_mode": {
    "name": "ipython",
    "version": 3
   },
   "file_extension": ".py",
   "mimetype": "text/x-python",
   "name": "python",
   "nbconvert_exporter": "python",
   "pygments_lexer": "ipython3",
   "version": "3.11.5"
  }
 },
 "nbformat": 4,
 "nbformat_minor": 5
}
