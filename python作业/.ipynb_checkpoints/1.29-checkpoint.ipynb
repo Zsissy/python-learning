{
 "cells": [
  {
   "cell_type": "code",
   "execution_count": 49,
   "id": "99733cb1",
   "metadata": {},
   "outputs": [
    {
     "name": "stdout",
     "output_type": "stream",
     "text": [
      "请输入您的成绩:微积分B(1) 5 3.0 线性代数(1) 4 2.7 思想道德修养与法律基础 3 3.3 党的知识概论 2 P 学术英语听说（2）－综述 2 3.3 体育(1) 1 3.0 微积分B(2) 4 3.3 线性代数(2) 2 3.0 中国近现代史纲要 3 3.3 德语(第二外国语)(1) 2 P 大学物理B(1) 4 3.0 学术英语读写（3）－文献综述 2 W 金工实习B(集中) 3 3.3 体育(2) 1 3.3 计算机程序设计基础 2 4.0 大学物理B(2) 4 3.0 物理实验A(1) 2 3.3 体育(3) 1 3.7 马克思主义基本原理 4 3.7 理论力学 3 3.3\n"
     ]
    }
   ],
   "source": [
    "str_gpa=input(\"请输入您的成绩:\")\n",
    "list_gpa=str_gpa.split(' ')#分割成字符串形式\n",
    "dict_name={} #空字典 最后得到的内容是课程名，学分和绩点与其值对应的一个列表\n",
    "list_name=[] #定义空列表\n",
    "for x in range(0,int(len(list_gpa)/3)):\n",
    "    y=3*x\n",
    "    dict_name['课程名']=list_gpa[y]\n",
    "    y=3*x+1\n",
    "    dict_name['学分']=list_gpa[y]\n",
    "    y=3*x+2\n",
    "    dict_name['绩点']=list_gpa[y]\n",
    "    list_name.append(dict_name)\n",
    "    dict_name={}#清空dict_name中的内容，避免影响下一次循环\n"
   ]
  },
  {
   "cell_type": "code",
   "execution_count": 50,
   "id": "c3172bb8",
   "metadata": {},
   "outputs": [],
   "source": [
    "def calculate_credit(list_name):\n",
    "    list_credit=[]\n",
    "    #list_mark=[]\n",
    "    sum_credit=0\n",
    "    for i in range(0,len(list_name)):\n",
    "        if list_name[i]['绩点']!='W':\n",
    "            list_credit.append(int(list_name[i]['学分']))\n",
    "            #list_mark.append(float(list_name[i]['绩点']))\n",
    "    for i in range(0,len(list_credit)):\n",
    "        sum_credit=sum_credit+int(list_credit[i])\n",
    "    return sum_credit"
   ]
  },
  {
   "cell_type": "code",
   "execution_count": 51,
   "id": "9292757c",
   "metadata": {},
   "outputs": [],
   "source": [
    "def calculate_gpa(list_name):#绩点✖️学分/总学分\n",
    "    list_credit=[]\n",
    "    list_mark=[]\n",
    "    sum_credit=0\n",
    "    sum_mark=0\n",
    "    sum_plus=0\n",
    "    gpa=0\n",
    "    for i in range(0,len(list_name)):\n",
    "        if list_name[i]['绩点']!='W'and list_name[i]['绩点']!='P':\n",
    "            list_credit.append(int(list_name[i]['学分']))\n",
    "            list_mark.append(float(list_name[i]['绩点']))\n",
    "    for i in range(0,len(list_credit)):\n",
    "        sum_credit=sum_credit+int(list_credit[i])#学分\n",
    "        #sum_mark=sum_mark+float(list_mark[i])#绩点\n",
    "        sum_plus=sum_plus+(int(list_credit[i])*float(list_mark[i]))\n",
    "        gpa=sum_plus/sum_credit\n",
    "    return gpa"
   ]
  },
  {
   "cell_type": "code",
   "execution_count": 52,
   "id": "5972f32d",
   "metadata": {},
   "outputs": [],
   "source": [
    "def calculate_subject(list_name):\n",
    "    list_credit=[]\n",
    "    list_mark=[]\n",
    "    list_dict=[]\n",
    "    str_name=[]\n",
    "    sum_credit=0\n",
    "    sum_mark=0\n",
    "    sum_plus=0\n",
    "    dict_subject={}\n",
    "    for i in range(0,len(list_name)):\n",
    "        if list_name[i]['绩点']!='W'and list_name[i]['绩点']!='P':\n",
    "            str_name.append(list_name[i]['课程名'])#存储课程名的列表，字符串形式\n",
    "            list_credit.append(int(list_name[i]['学分']))\n",
    "            list_mark.append(float(list_name[i]['绩点']))\n",
    "    for i in range(0,len(list_credit)):\n",
    "        sum_credit=sum_credit+int(list_credit[i])#学分\n",
    "        #sum_mark=sum_mark+float(list_mark[i])#绩点\n",
    "        sum_plus=sum_plus+(int(list_credit[i])*float(list_mark[i]))\n",
    "        gpa=sum_plus/sum_credit\n",
    "    for i in range(0,len(list_mark)):\n",
    "        if float(list_mark[i])>gpa:\n",
    "            dict_subject['课程名']= str_name[i]\n",
    "            dict_subject['学分']=int(list_credit[i])\n",
    "            dict_subject['绩点']=float(list_mark[i])\n",
    "            list_dict.append(dict_subject)\n",
    "            dict_subject={}\n",
    "    return list_dict"
   ]
  },
  {
   "cell_type": "code",
   "execution_count": 53,
   "id": "55117c90",
   "metadata": {
    "scrolled": true
   },
   "outputs": [
    {
     "name": "stdout",
     "output_type": "stream",
     "text": [
      "您的选择(数字):3\n",
      "[{'课程名': '思想道德修养与法律基础', '学分': 3, '绩点': 3.3}, {'课程名': '学术英语听说（2）－综述', '学分': 2, '绩点': 3.3}, {'课程名': '微积分B(2)', '学分': 4, '绩点': 3.3}, {'课程名': '中国近现代史纲要', '学分': 3, '绩点': 3.3}, {'课程名': '金工实习B(集中)', '学分': 3, '绩点': 3.3}, {'课程名': '体育(2)', '学分': 1, '绩点': 3.3}, {'课程名': '计算机程序设计基础', '学分': 2, '绩点': 4.0}, {'课程名': '物理实验A(1)', '学分': 2, '绩点': 3.3}, {'课程名': '体育(3)', '学分': 1, '绩点': 3.7}, {'课程名': '马克思主义基本原理', '学分': 4, '绩点': 3.7}, {'课程名': '理论力学', '学分': 3, '绩点': 3.3}]\n",
      "您的选择(数字):2\n",
      "3.2208333333333337\n",
      "您的选择(数字):0\n"
     ]
    }
   ],
   "source": [
    "while True:\n",
    "        int_input=input(\"您的选择(数字):\")\n",
    "        if int_input=='0':\n",
    "            break\n",
    "        elif int_input=='1':\n",
    "            credit_apply=calculate_credit(list_name)\n",
    "            print(credit_apply)\n",
    "        elif int_input=='2':\n",
    "            credit_apply=calculate_gpa(list_name)\n",
    "            print(credit_apply)\n",
    "        elif int_input=='3':\n",
    "            credit_apply=calculate_subject(list_name)\n",
    "            print(credit_apply)"
   ]
  },
  {
   "cell_type": "markdown",
   "id": "e62e38f8",
   "metadata": {},
   "source": [
    "微积分B(1) 5 3.0\n",
    "线性代数(1) 4 2.7\n",
    "思想道德修养与法律基础 3 3.3\n",
    "党的知识概论 2 P\n",
    "学术英语听说（2）－综述 2 3.3\n",
    "体育(1) 1 3.0\n",
    "微积分B(2) 4 3.3\n",
    "线性代数(2) 2 3.0\n",
    "中国近现代史纲要 3 3.3\n",
    "德语(第二外国语)(1) 2 P\n",
    "大学物理B(1) 4 3.0\n",
    "学术英语读写（3）－文献综述 2 W\n",
    "金工实习B(集中) 3 3.3\n",
    "体育(2) 1 3.3\n",
    "计算机程序设计基础 2 4.0\n",
    "大学物理B(2) 4 3.0\n",
    "物理实验A(1) 2 3.3\n",
    "体育(3) 1 3.7\n",
    "马克思主义基本原理 4 3.7\n",
    "理论力学 3 3.3"
   ]
  },
  {
   "cell_type": "markdown",
   "id": "3d668f04",
   "metadata": {},
   "source": [
    "左边是小明同学的成绩单，请你基于前面的综合例子设计一个更高级的GPA计算器，要求实现以下功能：\n",
    "录入成绩时，只需要粘贴左边的成绩单字符串；\n",
    "以[{'课程名': '微积分B(1)', '学分': 5, '绩点': 3.0,}, …]的格式（即字典的列表）储存课程信息；\n",
    "正确计算并输出GPA；\n",
    "正确计算并输出总学分；\n",
    "能够输出绩点大于GPA的科目，格式要求每个科目以字典形式输出： {'课程名': '计算机程序设计基础 B(1)', '学分': 2, '绩点': 4.0} \n",
    "【重要】程序应有关键步骤的注释；\n",
    "控制台中的交互。"
   ]
  }
 ],
 "metadata": {
  "kernelspec": {
   "display_name": "Python 3 (ipykernel)",
   "language": "python",
   "name": "python3"
  },
  "language_info": {
   "codemirror_mode": {
    "name": "ipython",
    "version": 3
   },
   "file_extension": ".py",
   "mimetype": "text/x-python",
   "name": "python",
   "nbconvert_exporter": "python",
   "pygments_lexer": "ipython3",
   "version": "3.11.5"
  }
 },
 "nbformat": 4,
 "nbformat_minor": 5
}
