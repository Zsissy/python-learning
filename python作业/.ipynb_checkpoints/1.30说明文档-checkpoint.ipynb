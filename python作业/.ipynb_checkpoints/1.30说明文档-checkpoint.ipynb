{
 "cells": [
  {
   "cell_type": "markdown",
   "id": "0e1645c9",
   "metadata": {},
   "source": [
    "# 简介：\n",
    "这是一个用来计算gpa的计算器\n",
    "# 功能：\n",
    "输入0:退出程序\n",
    "输入1:可以计算总学分\n",
    "输入2:可以计算gpa\n",
    "输入3:可以以字典形式输出绩点大于gpa的科目\n",
    "# 使用方法：\n",
    "运行代码后，在第一个方框内输入想要计算的字符串，在第二个方框处通过输入0，1，2，3得到想要的计算结果"
   ]
  },
  {
   "cell_type": "code",
   "execution_count": null,
   "id": "0ece549f",
   "metadata": {},
   "outputs": [],
   "source": []
  }
 ],
 "metadata": {
  "kernelspec": {
   "display_name": "Python 3 (ipykernel)",
   "language": "python",
   "name": "python3"
  },
  "language_info": {
   "codemirror_mode": {
    "name": "ipython",
    "version": 3
   },
   "file_extension": ".py",
   "mimetype": "text/x-python",
   "name": "python",
   "nbconvert_exporter": "python",
   "pygments_lexer": "ipython3",
   "version": "3.11.5"
  }
 },
 "nbformat": 4,
 "nbformat_minor": 5
}
