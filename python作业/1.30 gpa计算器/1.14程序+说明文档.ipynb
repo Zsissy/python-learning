{
 "cells": [
  {
   "cell_type": "code",
   "execution_count": 14,
   "id": "1933cfd7",
   "metadata": {},
   "outputs": [
    {
     "name": "stdout",
     "output_type": "stream",
     "text": [
      "请输入您的成绩:微积分B(1) 5 3.0 线性代数(1) 4 2.7 思想道德修养与法律基础 3 3.3\n"
     ]
    }
   ],
   "source": [
    "str_gpa=input(\"请输入您的成绩:\")\n",
    "list_gpa=str_gpa.split(' ')#分割成字符串形式\n",
    "dict_name={} #空字典 最后得到的内容是课程名，学分和绩点与其值对应的一个列表\n",
    "list_name=[] #定义空列表\n",
    "for x in range(0,int(len(list_gpa)/3)):\n",
    "    y=3*x\n",
    "    dict_name['课程名']=list_gpa[y]\n",
    "    y=3*x+1\n",
    "    dict_name['学分']=list_gpa[y]\n",
    "    y=3*x+2\n",
    "    dict_name['绩点']=list_gpa[y]\n",
    "    list_name.append(dict_name)\n",
    "    dict_name={}#清空dict_name中的内容，避免影响下一次循环\n",
    "#list_credit=[]\n",
    "def calculate_credit(list_name):\n",
    "    list_credit=[]\n",
    "    list_int=[]\n",
    "    list_float=[]\n",
    "    list_mark=[]\n",
    "    str_name=[]\n",
    "    sum_credit=0\n",
    "    plus_mark=0\n",
    "    sum_gpa=0\n",
    "    dict_credit={}\n",
    "    list_subject=[]\n",
    "    list_dict=[]\n",
    "    for i in range(0,len(list_name)):\n",
    "        str_name.append(list_name[i]['课程名'])#存储课程名的列表，字符串形式\n",
    "        list_credit.append(list_name[i]['学分'])#存储所有学分的列表 字符串形式\n",
    "        list_mark.append(list_name[i]['绩点'])#存储所有绩点的列表 字符串形式\n",
    "    for i in range(0,len(list_credit)):\n",
    "        list_int.append(int(list_credit[i])) #整数形式的学分\n",
    "        list_float.append(float(list_mark[i]))#浮点数形式的绩点\n",
    "        sum_credit=sum_credit+int(list_credit[i])#求总学分\n",
    "        plus_mark=plus_mark+list_int[i]*list_float[i]#求所有绩点*学分的值\n",
    "        sum_gpa=plus_mark/sum_credit #求gpa\n",
    "        round_gpa=round(sum_gpa,3) #将gpa的数值只保留前三位\n",
    "    for i in range(0,len(list_mark)):#输出绩点大于gpa的科目\n",
    "        if list_float[i]>round_gpa:\n",
    "            dict_credit['课程名']= str_name[i]\n",
    "            dict_credit['学分']=list_int[i]\n",
    "            dict_credit['绩点']=list_float[i]\n",
    "            list_dict.append(dict_credit)\n",
    "            dict_credit={}\n",
    "    for i in range(0,4):\n",
    "        int_input=input(\"您的选择(数字):\")\n",
    "        if int_input==0:\n",
    "            break\n",
    "        elif int_input==1:\n",
    "            print(sum_gpa)\n",
    "        elif int_input==2:\n",
    "            print(sum_credit)\n",
    "        elif list_float[i]>round_gpa:\n",
    "            list_subject=dict_credit['课程名']\n",
    "            print(list_subject)\n",
    "    return(list_dict)"
   ]
  },
  {
   "cell_type": "code",
   "execution_count": 2,
   "id": "c00d191d",
   "metadata": {},
   "outputs": [
    {
     "name": "stdout",
     "output_type": "stream",
     "text": [
      "请输入您的成绩:微积分B(1) 5 3.0 线性代数(1) 4 2.7 思想道德修养与法律基础 3 3.3\n",
      "您的选择(数字):0\n"
     ]
    }
   ],
   "source": [
    "str_gpa=input(\"请输入您的成绩:\")\n",
    "list_gpa=str_gpa.split(' ')#分割成字符串形式\n",
    "while True:\n",
    "        int_input=input(\"您的选择(数字):\")\n",
    "        if int_input=='0':\n",
    "            break\n",
    "        elif int_input=='1':\n",
    "            dict_name={} #空字典 最后得到的内容是课程名，学分和绩点与其值对应的一个列表\n",
    "            list_name=[] #定义空列表\n",
    "            for x in range(0,int(len(list_gpa)/3)):\n",
    "                y=3*x\n",
    "                dict_name['课程名']=list_gpa[y]\n",
    "                y=3*x+1\n",
    "                dict_name['学分']=list_gpa[y]\n",
    "                y=3*x+2\n",
    "                dict_name['绩点']=list_gpa[y]\n",
    "                list_name.append(dict_name)\n",
    "                dict_name={}#清空dict_name中的内容，避免影响下一次循环\n",
    "                def calculate_gpa(list_name):#输出gpa 缺少输入模块 sumgpa改listname\n",
    "                    list_credit=[]\n",
    "                    list_int=[]\n",
    "                    list_float=[]\n",
    "                    list_mark=[]\n",
    "                    str_name=[]\n",
    "                    sum_credit=0\n",
    "                    plus_mark=0\n",
    "                    sum_gpa=0\n",
    "                    for i in range(0,len(list_name)):\n",
    "                        str_name.append(list_name[i]['课程名'])#存储课程名的列表，字符串形式\n",
    "                        list_credit.append(list_name[i]['学分'])#存储所有学分的列表 字符串形式\n",
    "                        list_mark.append(list_name[i]['绩点'])#存储所有绩点的列表 字符串形式\n",
    "                    for i in range(0,len(list_credit)):\n",
    "                        list_int.append(int(list_credit[i])) #整数形式的学分\n",
    "                        list_float.append(float(list_mark[i]))#浮点数形式的绩点\n",
    "                        sum_credit=sum_credit+int(list_credit[i])#求总学分\n",
    "                        plus_mark=plus_mark+list_int[i]*list_float[i]#求所有绩点*学分的值\n",
    "                        sum_gpa=plus_mark/sum_credit #求gpa\n",
    "                        round_gpa=round(sum_gpa,3) #将gpa的数值只保留前三位\n",
    "                    print(round_gpa)\n",
    "        elif int_input=='2':#输出总学分\n",
    "            def caculate_credit(sum_credit):\n",
    "                list_credit=[]\n",
    "                list_int=[]\n",
    "                list_float=[]\n",
    "                list_mark=[]\n",
    "                str_name=[]\n",
    "                sum_credit_caculate=0\n",
    "                for i in range(0,len(sum_credit)):\n",
    "                    list_credit.append(sum_credit[i]['学分'])\n",
    "                for i in range(0,len(list_credit)):\n",
    "                    list_int.append(int(list_credit[i])) #整数形式的学分\n",
    "                    sum_credit_caculate=sum_credit+int(list_credit[i])#求总学分\n",
    "                print(sum_credit_caculate)\n",
    "            calculate_credit(sum_credit)\n",
    "        elif int_input=='3':#以字典形式输出绩点大于gpa的科目 list name\n",
    "            def dict_subject(over_gpa):\n",
    "                list_credit=[]\n",
    "                list_int=[]\n",
    "                list_float=[]\n",
    "                list_mark=[]\n",
    "                str_name=[]\n",
    "                sum_credit=0\n",
    "                plus_mark=0\n",
    "                sum_gpa=0\n",
    "                dict_credit={}\n",
    "                list_subject=[]\n",
    "                list_dict=[]\n",
    "                for i in range(0,len(over_gpa)):\n",
    "                    str_name.append(over_gpa[i]['课程名'])#存储课程名的列表，字符串形式\n",
    "                    list_credit.append(over_gpa[i]['学分'])#存储所有学分的列表 字符串形式\n",
    "                    list_mark.append(over_gpa[i]['绩点'])#存储所有绩点的列表 字符串形式\n",
    "                for i in range(0,len(list_credit)):\n",
    "                    list_int.append(int(list_credit[i])) #整数形式的学分\n",
    "                    list_float.append(float(list_mark[i]))#浮点数形式的绩点\n",
    "                    sum_credit=sum_credit+int(list_credit[i])#求总学分\n",
    "                    plus_mark=plus_mark+list_int[i]*list_float[i]#求所有绩点*学分的值\n",
    "                    sum_gpa=plus_mark/sum_credit #求gpa\n",
    "                    round_gpa=round(sum_gpa,3) #将gpa的数值只保留前三位\n",
    "                for i in range(0,len(list_mark)):#输出绩点大于gpa的科目 \n",
    "                    if list_float[i]>round_gpa:\n",
    "                        dict_credit['课程名']= str_name[i]\n",
    "                        dict_credit['学分']=list_int[i]\n",
    "                        dict_credit['绩点']=list_float[i]\n",
    "                        list_dict.append(dict_credit)\n",
    "                        dict_credit={}\n",
    "                print(dict_credit)"
   ]
  },
  {
   "cell_type": "code",
   "execution_count": 1,
   "id": "27ebbd26",
   "metadata": {},
   "outputs": [
    {
     "name": "stdout",
     "output_type": "stream",
     "text": [
      "您的选择(数字):0\n",
      "<class 'str'>\n"
     ]
    }
   ],
   "source": [
    "a=input(\"您的选择(数字):\")\n",
    "A=type(a)\n",
    "print(A)"
   ]
  },
  {
   "cell_type": "code",
   "execution_count": null,
   "id": "3003d9c6",
   "metadata": {},
   "outputs": [],
   "source": [
    "微积分B(1) 5 3.0\n",
    "线性代数(1) 4 2.7\n",
    "思想道德修养与法律基础 3 3.3\n"
   ]
  },
  {
   "cell_type": "code",
   "execution_count": null,
   "id": "11e7692f",
   "metadata": {},
   "outputs": [],
   "source": [
    "calculate_text=calculate_credit(sum_credit)\n",
    "print(calculate_text)"
   ]
  },
  {
   "cell_type": "code",
   "execution_count": 15,
   "id": "45b19489",
   "metadata": {},
   "outputs": [
    {
     "name": "stdout",
     "output_type": "stream",
     "text": [
      "[{'课程名': '微积分B(1)', '学分': 5, '绩点': 3.0}, {'课程名': '思想道德修养与法律基础', '学分': 3, '绩点': 3.3}]\n"
     ]
    }
   ],
   "source": [
    "calculate_text=calculate_credit(list_name)\n",
    "#dict_credit=calculate_credit(list_name)\n",
    "print(calculate_text)"
   ]
  },
  {
   "cell_type": "code",
   "execution_count": null,
   "id": "a50361e0",
   "metadata": {},
   "outputs": [],
   "source": [
    "微积分B(1) 5 3.0\n",
    "线性代数(1) 4 2.7\n",
    "思想道德修养与法律基础 3 3.3\n"
   ]
  },
  {
   "cell_type": "code",
   "execution_count": null,
   "id": "edaf39cd",
   "metadata": {},
   "outputs": [],
   "source": [
    "## 向字典里添加元素：dict_name['new_element'] = 'new value'\n",
    "dict_1['new_key'] = 'new value'\n",
    "dict_1"
   ]
  },
  {
   "cell_type": "code",
   "execution_count": null,
   "id": "fccfde09",
   "metadata": {},
   "outputs": [],
   "source": [
    "listA=[1,2,3,4,5,6]\n",
    "sum_gpa=2.867\n",
    "dict_gpa={}\n",
    "for i in range(0,len(listA)):\n",
    "    if listA[i]>sun_gpa\n",
    "    dict_gpa['课程名']=''\n"
   ]
  },
  {
   "cell_type": "code",
   "execution_count": 4,
   "id": "e8be7c9d",
   "metadata": {},
   "outputs": [
    {
     "name": "stdout",
     "output_type": "stream",
     "text": [
      "请输入您的成绩:微积分B(1) 5 3.0 线性代数(1) 4 2.7\n",
      "[{'课程名': '微积分B(1)', '学分': '5', '绩点': '3.0'}, {'课程名': '线性代数(1)', '学分': '4', '绩点': '2.7'}]\n"
     ]
    }
   ],
   "source": [
    "str_gpa=input(\"请输入您的成绩:\")\n",
    "list_gpa=str_gpa.split(' ')#分割成\n",
    "dict_name={}\n",
    "list_name=[]\n",
    "for x in range(0,int(len(list_gpa)/3)):\n",
    "    y=3*x\n",
    "    dict_name['课程名']=list_gpa[y]\n",
    "    y=3*x+1\n",
    "    dict_name['学分']=list_gpa[y]\n",
    "    y=3*x+2\n",
    "    dict_name['绩点']=list_gpa[y]\n",
    "    list_name.append(dict_name)\n",
    "    dict_name={}#清空dict_name中的内容，避免影响下一次循环\n",
    "print(list_name)"
   ]
  },
  {
   "cell_type": "code",
   "execution_count": null,
   "id": "2ddaf65e",
   "metadata": {},
   "outputs": [],
   "source": []
  }
 ],
 "metadata": {
  "kernelspec": {
   "display_name": "Python 3 (ipykernel)",
   "language": "python",
   "name": "python3"
  },
  "language_info": {
   "codemirror_mode": {
    "name": "ipython",
    "version": 3
   },
   "file_extension": ".py",
   "mimetype": "text/x-python",
   "name": "python",
   "nbconvert_exporter": "python",
   "pygments_lexer": "ipython3",
   "version": "3.11.5"
  }
 },
 "nbformat": 4,
 "nbformat_minor": 5
}
