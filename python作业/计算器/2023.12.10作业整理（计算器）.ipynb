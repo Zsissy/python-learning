{
 "cells": [
  {
   "cell_type": "code",
   "execution_count": 2,
   "id": "06aaba1d",
   "metadata": {},
   "outputs": [
    {
     "ename": "SyntaxError",
     "evalue": "invalid syntax (3426088407.py, line 6)",
     "output_type": "error",
     "traceback": [
      "\u001b[0;36m  Cell \u001b[0;32mIn[2], line 6\u001b[0;36m\u001b[0m\n\u001b[0;31m    for b<a:\u001b[0m\n\u001b[0m         ^\u001b[0m\n\u001b[0;31mSyntaxError\u001b[0m\u001b[0;31m:\u001b[0m invalid syntax\n"
     ]
    }
   ],
   "source": [
    "#题目1\n",
    "a=10\n",
    "b=0\n",
    "i=0\n",
    "#循环到第几次的时候b大于a\n",
    "for b<a:\n",
    "    a=a+1\n",
    "    b=b+2\n",
    "    i+i+1\n",
    "    if b>a:\n",
    "        print(b)\n",
    "print(i)"
   ]
  },
  {
   "cell_type": "code",
   "execution_count": 3,
   "id": "65a5942e",
   "metadata": {},
   "outputs": [
    {
     "name": "stdout",
     "output_type": "stream",
     "text": [
      "3\n"
     ]
    }
   ],
   "source": [
    "#题目2\n",
    "#注意def后和if后的冒号\n",
    "def calculator(a,b,c):\n",
    "    a=int(a)\n",
    "    b=int(b)\n",
    "    list1=[\"+\",\"-\",\"*\",\"/\"]\n",
    "    if c==list1[0]:\n",
    "        result=a+b\n",
    "    elif c==list1[1]:\n",
    "        result=a-b\n",
    "    elif c==list1[2]:\n",
    "        result=a*b\n",
    "    elif c==list1[3]:\n",
    "        result=a/b\n",
    "    print(result)\n",
    "calculator(1,2,\"+\")\n",
    "            \n",
    "    "
   ]
  },
  {
   "cell_type": "code",
   "execution_count": 3,
   "id": "1741a346",
   "metadata": {},
   "outputs": [
    {
     "name": "stdout",
     "output_type": "stream",
     "text": [
      "1+2\n",
      "1+2\n",
      "['1', '2']\n"
     ]
    },
    {
     "ename": "NameError",
     "evalue": "name 'calculator' is not defined",
     "output_type": "error",
     "traceback": [
      "\u001b[0;31m---------------------------------------------------------------------------\u001b[0m",
      "\u001b[0;31mNameError\u001b[0m                                 Traceback (most recent call last)",
      "Cell \u001b[0;32mIn[3], line 5\u001b[0m\n\u001b[1;32m      3\u001b[0m d2\u001b[38;5;241m=\u001b[39md1\u001b[38;5;241m.\u001b[39msplit(\u001b[38;5;124m'\u001b[39m\u001b[38;5;124m+\u001b[39m\u001b[38;5;124m'\u001b[39m)\u001b[38;5;66;03m#以加号作分隔符                                                                                                                                                                                                                                                     if d2[0]!=d1: \u001b[39;00m\n\u001b[1;32m      4\u001b[0m \u001b[38;5;28mprint\u001b[39m(d2)\n\u001b[0;32m----> 5\u001b[0m calculator(d2[\u001b[38;5;241m0\u001b[39m],d2[\u001b[38;5;241m1\u001b[39m],\u001b[38;5;124m\"\u001b[39m\u001b[38;5;124m+\u001b[39m\u001b[38;5;124m\"\u001b[39m)  \n\u001b[1;32m      6\u001b[0m d2\u001b[38;5;241m=\u001b[39md1\u001b[38;5;241m.\u001b[39msplit(\u001b[38;5;124m'\u001b[39m\u001b[38;5;124m-\u001b[39m\u001b[38;5;124m'\u001b[39m)\n\u001b[1;32m      7\u001b[0m \u001b[38;5;28;01mif\u001b[39;00m d2[\u001b[38;5;241m0\u001b[39m]\u001b[38;5;241m!=\u001b[39md1:\n",
      "\u001b[0;31mNameError\u001b[0m: name 'calculator' is not defined"
     ]
    }
   ],
   "source": [
    "d1=input() \n",
    "print(d1)\n",
    "d2=d1.split('+')#以加号作分隔符                                                                                                                                                                                                                                                     if d2[0]!=d1: \n",
    "print(d2)\n",
    "calculator(d2[0],d2[1],\"+\")  \n",
    "d2=d1.split('-')\n",
    "if d2[0]!=d1:\n",
    "    print(d2)\n",
    "    calculator(d2[0],d2[1],'-')\n",
    "d2=d1.split('*')\n",
    "if d2[0]!=d1:\n",
    "    print(d2)\n",
    "    calculator(d2[0],d2[1],'*')\n",
    "d2=d1.split('/')\n",
    "if d2[0]!=d1:\n",
    "    print(d2)\n",
    "    calculator(d2[0],d2[1],'/ ')"
   ]
  },
  {
   "cell_type": "code",
   "execution_count": null,
   "id": "54a3e8b6",
   "metadata": {},
   "outputs": [],
   "source": [
    "d1=input()#针对上面的重复的步骤进行简化\n",
    "for c in('+','-','*','/'):\n",
    "    d2=d1.split(c)\n",
    "    if d2[0]!=d1:\n",
    "        calculator(d2[0],d2[1],c)"
   ]
  },
  {
   "cell_type": "code",
   "execution_count": null,
   "id": "ea663bed",
   "metadata": {},
   "outputs": [],
   "source": []
  }
 ],
 "metadata": {
  "kernelspec": {
   "display_name": "Python 3 (ipykernel)",
   "language": "python",
   "name": "python3"
  },
  "language_info": {
   "codemirror_mode": {
    "name": "ipython",
    "version": 3
   },
   "file_extension": ".py",
   "mimetype": "text/x-python",
   "name": "python",
   "nbconvert_exporter": "python",
   "pygments_lexer": "ipython3",
   "version": "3.11.5"
  }
 },
 "nbformat": 4,
 "nbformat_minor": 5
}
