{
 "cells": [
  {
   "cell_type": "code",
   "execution_count": 16,
   "id": "da2fbabf",
   "metadata": {},
   "outputs": [
    {
     "name": "stdout",
     "output_type": "stream",
     "text": [
      "计算结果为: 8.0\n"
     ]
    }
   ],
   "source": [
    "def caculator(a,b,c):\n",
    "    list3=['+','-','*','/']\n",
    "    a=float(a)\n",
    "    b=float(b)\n",
    "    if c==list3[0]:\n",
    "        result=a+b\n",
    "    elif c==list3[1]:\n",
    "        result=a-b\n",
    "    elif c==list3[2]:\n",
    "        result=a*b\n",
    "    elif c==list3[3]:\n",
    "        result=a/b\n",
    "    print(\"计算结果为:\",result)\n",
    "caculator((1+2),(2+3),'+')\n",
    "    "
   ]
  },
  {
   "cell_type": "code",
   "execution_count": null,
   "id": "2e9bd64a",
   "metadata": {},
   "outputs": [],
   "source": [
    "def caculator(a,b,c):\n",
    "    list3=['+','-','*','/']\n",
    "    a=float(a)\n",
    "    b=float(b)\n",
    "    operation=input()\n",
    "    if c==list3[0]:\n",
    "        result=a+b\n",
    "    elif c==list3[1]:\n",
    "        result=a-b\n",
    "    elif c==list3[2]:\n",
    "        result=a*b\n",
    "    elif c==list3[3]:\n",
    "        result=a/b\n",
    "    print(\"计算结果为:\",result)\n",
    "    \n",
    "caculator((1+2),(2+3),'+')\n",
    "    "
   ]
  },
  {
   "cell_type": "code",
   "execution_count": null,
   "id": "a8336812",
   "metadata": {},
   "outputs": [],
   "source": []
  },
  {
   "cell_type": "code",
   "execution_count": null,
   "id": "2d7e7e97",
   "metadata": {},
   "outputs": [],
   "source": []
  }
 ],
 "metadata": {
  "kernelspec": {
   "display_name": "Python 3 (ipykernel)",
   "language": "python",
   "name": "python3"
  },
  "language_info": {
   "codemirror_mode": {
    "name": "ipython",
    "version": 3
   },
   "file_extension": ".py",
   "mimetype": "text/x-python",
   "name": "python",
   "nbconvert_exporter": "python",
   "pygments_lexer": "ipython3",
   "version": "3.11.5"
  }
 },
 "nbformat": 4,
 "nbformat_minor": 5
}
