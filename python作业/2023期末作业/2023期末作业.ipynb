{
 "cells": [
  {
   "cell_type": "markdown",
   "metadata": {},
   "source": [
    "同学们好，本期python工作坊考核内容如下：\n",
    "\n",
    "利用爬虫技术，自行爬取并搭建任意语料库（参考来源：微博、微信公众号、报纸、政府工作报告等），在此基础上，利用机器学习技术，进行任意类型的文本分析（如情感分析/文本聚类/主题建模等）。\n",
    "撰写结果说明文档，包含语料库来源、使用的机器学习方法或模型，以及分析结果，篇幅控制在一页以内。\n",
    "\n",
    "完成后请将代码和结果说明打包，于3月24日23：59前提交到助教麦尔的邮箱mehbteh23@tsinghua.mails.edu.cn \n",
    "\n",
    "依据课程安排，两学期全勤且完成考核内容的同学可以获得课程证书一份。春季学期进阶课程近期即将上线，敬请期待！"
   ]
  },
  {
   "cell_type": "code",
   "execution_count": 2,
   "metadata": {},
   "outputs": [],
   "source": [
    "import pandas as pd\n",
    "import pymysql\n",
    "from selenium import webdriver\n",
    "from selenium.webdriver.common.by import By\n",
    "from bs4 import BeautifulSoup\n",
    "import re\n",
    "from datetime import datetime\n",
    "from time import sleep"
   ]
  }
 ],
 "metadata": {
  "kernelspec": {
   "display_name": "learning",
   "language": "python",
   "name": "python3"
  },
  "language_info": {
   "codemirror_mode": {
    "name": "ipython",
    "version": 3
   },
   "file_extension": ".py",
   "mimetype": "text/x-python",
   "name": "python",
   "nbconvert_exporter": "python",
   "pygments_lexer": "ipython3",
   "version": "3.11.5"
  }
 },
 "nbformat": 4,
 "nbformat_minor": 2
}
