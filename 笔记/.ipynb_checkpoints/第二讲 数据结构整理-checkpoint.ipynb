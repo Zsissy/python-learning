{
 "cells": [
  {
   "cell_type": "markdown",
   "id": "375e73da",
   "metadata": {},
   "source": [
    "第二讲-数据结构"
   ]
  },
  {
   "cell_type": "code",
   "execution_count": 1,
   "id": "d2bf4b31",
   "metadata": {},
   "outputs": [
    {
     "name": "stdout",
     "output_type": "stream",
     "text": [
      "to\n"
     ]
    }
   ],
   "source": [
    "# 内容替换\n",
    "s = 'today'\n",
    "new_s = s.replace('day', '') #变量名\n",
    "print(new_s)"
   ]
  },
  {
   "cell_type": "markdown",
   "id": "273e7505",
   "metadata": {},
   "source": [
    "如何通过index替换内容？"
   ]
  },
  {
   "cell_type": "code",
   "execution_count": 3,
   "id": "4a05443f",
   "metadata": {},
   "outputs": [],
   "source": [
    "# 如何通过 index 替换内容\n",
    "sentence = \"It's another Friday.\""
   ]
  },
  {
   "cell_type": "code",
   "execution_count": 4,
   "id": "9b25b4d7",
   "metadata": {},
   "outputs": [
    {
     "data": {
      "text/plain": [
       "\"It's another Sunday.\""
      ]
     },
     "execution_count": 4,
     "metadata": {},
     "output_type": "execute_result"
    }
   ],
   "source": [
    "# 方案一\n",
    "sentence.replace('Fri', 'Sun')"
   ]
  },
  {
   "cell_type": "code",
   "execution_count": 5,
   "id": "2a73433f",
   "metadata": {},
   "outputs": [
    {
     "data": {
      "text/plain": [
       "\"It's another Sunday.\""
      ]
     },
     "execution_count": 5,
     "metadata": {},
     "output_type": "execute_result"
    }
   ],
   "source": [
    "# 方案二\n",
    "new_sentence = sentence[:-7] + 'Sun' + sentence[-4:]\n",
    "new_sentence"
   ]
  },
  {
   "cell_type": "markdown",
   "id": "6f3acac5",
   "metadata": {},
   "source": [
    "split 的用法"
   ]
  },
  {
   "cell_type": "code",
   "execution_count": 6,
   "id": "8df68460",
   "metadata": {},
   "outputs": [
    {
     "name": "stdout",
     "output_type": "stream",
     "text": [
      "['北京', '中级人民法院']\n"
     ]
    }
   ],
   "source": [
    "title = '北京市中级人民法院'\n",
    "splited = title.split('市') \n",
    "print(splited)"
   ]
  },
  {
   "cell_type": "markdown",
   "id": "c297269a",
   "metadata": {},
   "source": [
    "集合运算"
   ]
  },
  {
   "cell_type": "code",
   "execution_count": 7,
   "id": "0101ea33",
   "metadata": {},
   "outputs": [
    {
     "data": {
      "text/plain": [
       "{1, '1', 2, 3, 6, 'a'}"
      ]
     },
     "execution_count": 7,
     "metadata": {},
     "output_type": "execute_result"
    }
   ],
   "source": [
    "set_0 = set([3, 2, '1', 6, 6, 1, 'a'])#set集合具有无序性，确定性，互异性\n",
    "set_0"
   ]
  },
  {
   "cell_type": "markdown",
   "id": "7771290e",
   "metadata": {},
   "source": [
    "判断是否为子集"
   ]
  },
  {
   "cell_type": "code",
   "execution_count": 8,
   "id": "e074734f",
   "metadata": {},
   "outputs": [
    {
     "name": "stdout",
     "output_type": "stream",
     "text": [
      "False\n"
     ]
    }
   ],
   "source": [
    "set_1 = set([1, 2, 3, 3, 4])\n",
    "set_2 = {1, 2, 5, 6}\n",
    "print(set_1.issubset(set_2))"
   ]
  },
  {
   "cell_type": "markdown",
   "id": "516a2a1b",
   "metadata": {},
   "source": [
    "元祖，列表，字典"
   ]
  },
  {
   "cell_type": "code",
   "execution_count": 9,
   "id": "99a1097a",
   "metadata": {},
   "outputs": [
    {
     "name": "stdout",
     "output_type": "stream",
     "text": [
      "2\n"
     ]
    }
   ],
   "source": [
    "tuple_1 = (2, 3, '2', 2)\n",
    "\n",
    "print(tuple_1[0])\n",
    "\n",
    "# tuple_1[1] = 0.5"
   ]
  },
  {
   "cell_type": "code",
   "execution_count": 10,
   "id": "67b34e79",
   "metadata": {},
   "outputs": [
    {
     "name": "stdout",
     "output_type": "stream",
     "text": [
      "[2, ['4'], '2']\n"
     ]
    }
   ],
   "source": [
    "list_1 = [2, 3, '2']\n",
    "list_1[1] = ['4']\n",
    "print(list_1)"
   ]
  },
  {
   "cell_type": "markdown",
   "id": "bfe84d09",
   "metadata": {},
   "source": [
    "append的用法"
   ]
  },
  {
   "cell_type": "code",
   "execution_count": 11,
   "id": "f7e27110",
   "metadata": {},
   "outputs": [
    {
     "name": "stdout",
     "output_type": "stream",
     "text": [
      "[2, ['4'], '2', ['how', 'are', 'you']]\n"
     ]
    }
   ],
   "source": [
    "list_1.append(['how', 'are', 'you'])\n",
    "print(list_1)"
   ]
  },
  {
   "cell_type": "markdown",
   "id": "9d06bdf2",
   "metadata": {},
   "source": [
    "extend的用法"
   ]
  },
  {
   "cell_type": "code",
   "execution_count": 12,
   "id": "ee5ef743",
   "metadata": {},
   "outputs": [
    {
     "name": "stdout",
     "output_type": "stream",
     "text": [
      "[2, ['4'], '2', ['how', 'are', 'you'], 'how', 'are', 'are', 'you']\n"
     ]
    }
   ],
   "source": [
    "list_1.extend(['how', 'are', 'are', 'you']) \n",
    "print(list_1)"
   ]
  },
  {
   "cell_type": "markdown",
   "id": "a198ec1c",
   "metadata": {},
   "source": [
    "删除列表元素"
   ]
  },
  {
   "cell_type": "code",
   "execution_count": 13,
   "id": "d0fd8c78",
   "metadata": {},
   "outputs": [
    {
     "data": {
      "text/plain": [
       "[2, ['4'], '2', ['how', 'are', 'you'], 'how', 'are', 'you']"
      ]
     },
     "execution_count": 13,
     "metadata": {},
     "output_type": "execute_result"
    }
   ],
   "source": [
    "c = 'are'\n",
    "if c in list_1:#这里面的c？先赋值？\n",
    "    list_1.remove(c) # 去除某个值的【第一个】匹配项\n",
    "list_1"
   ]
  },
  {
   "cell_type": "markdown",
   "id": "6c950452",
   "metadata": {},
   "source": [
    "循环语句是否可以删除"
   ]
  },
  {
   "cell_type": "code",
   "execution_count": 14,
   "id": "52db72f7",
   "metadata": {},
   "outputs": [
    {
     "name": "stdout",
     "output_type": "stream",
     "text": [
      "2\n",
      "[['4'], '2', ['how', 'are', 'you'], 'how', 'are', 'you']\n",
      "2\n",
      "[['4'], ['how', 'are', 'you'], 'how', 'are', 'you']\n",
      "how\n",
      "[['4'], ['how', 'are', 'you'], 'are', 'you']\n",
      "you\n",
      "[['4'], ['how', 'are', 'you'], 'are']\n"
     ]
    }
   ],
   "source": [
    "for d in list_1:#这里面的d\n",
    "    print(d) # 第 k 次循环就是取到列表中index = k-1 的元素\n",
    "    list_1.remove(d) \n",
    "    print(list_1)"
   ]
  },
  {
   "cell_type": "markdown",
   "id": "7ac3bd46",
   "metadata": {},
   "source": [
    "print(d)就是先把所有在list_1中的重复元素都生成，然后再通过每一次循环移除"
   ]
  },
  {
   "cell_type": "markdown",
   "id": "1a6dd0fd",
   "metadata": {},
   "source": [
    "del函数删除"
   ]
  },
  {
   "cell_type": "code",
   "execution_count": 15,
   "id": "adf06dc3",
   "metadata": {},
   "outputs": [
    {
     "name": "stdout",
     "output_type": "stream",
     "text": [
      "[5, 11, 'x', 'abc']\n"
     ]
    }
   ],
   "source": [
    "list_3 = [5, 9, 11, 'x', 'abc']\n",
    "del list_3[1] # 删除index 为 1的项\n",
    "print(list_3)"
   ]
  },
  {
   "cell_type": "markdown",
   "id": "9ed45a55",
   "metadata": {},
   "source": [
    "pop删除(index)"
   ]
  },
  {
   "cell_type": "code",
   "execution_count": 16,
   "id": "42b7dfd4",
   "metadata": {},
   "outputs": [
    {
     "name": "stdout",
     "output_type": "stream",
     "text": [
      "[1, 4, 7]\n",
      "[4, 7]\n"
     ]
    }
   ],
   "source": [
    "list_2 = [1, 4, 7, 8]\n",
    "list_2.pop() # 删除最末位（默认 index 为 -1）\n",
    "print(list_2)\n",
    "list_2.pop(0) # 删除第index为0 位\n",
    "print(list_2)"
   ]
  },
  {
   "cell_type": "code",
   "execution_count": null,
   "id": "7e05e62d",
   "metadata": {},
   "outputs": [],
   "source": [
    "del list_3[1:4] # 删除index 为 1， 2， 3 的项\n",
    "print(list_3)"
   ]
  },
  {
   "cell_type": "markdown",
   "id": "8cca56bd",
   "metadata": {},
   "source": [
    "字典dictionary"
   ]
  },
  {
   "cell_type": "code",
   "execution_count": 17,
   "id": "9b22b73a",
   "metadata": {},
   "outputs": [
    {
     "name": "stdout",
     "output_type": "stream",
     "text": [
      "dict_keys(['index0', 'index1', 'index2', 'index3']) dict_values([2, 3, '2', 2])\n"
     ]
    }
   ],
   "source": [
    "dict_1 = {'index0': 2, \n",
    "          'index1': 3, \n",
    "          'index2': '2',\n",
    "          'index3': 2}\n",
    "\n",
    "\n",
    "print(dict_1.keys(), dict_1.values())#索引和值吗"
   ]
  },
  {
   "cell_type": "markdown",
   "id": "bf3069ca",
   "metadata": {},
   "source": [
    "向字典内添加元素"
   ]
  },
  {
   "cell_type": "code",
   "execution_count": 18,
   "id": "99152031",
   "metadata": {},
   "outputs": [
    {
     "data": {
      "text/plain": [
       "{'index0': 2, 'index1': 3, 'index2': '2', 'index3': 2, 'new_key': 'new value'}"
      ]
     },
     "execution_count": 18,
     "metadata": {},
     "output_type": "execute_result"
    }
   ],
   "source": [
    "dict_name['new_element'] = 'new value'\n",
    "dict_1['new_key'] = 'new value'\n",
    "dict_1"
   ]
  },
  {
   "cell_type": "code",
   "execution_count": null,
   "id": "e05ed8cf",
   "metadata": {},
   "outputs": [],
   "source": [
    "字典内删除元素"
   ]
  },
  {
   "cell_type": "code",
   "execution_count": null,
   "id": "cab95673",
   "metadata": {},
   "outputs": [],
   "source": [
    "del dict_1['new_key'] # 通过 del key 来 del 整个键值对\n",
    "dict_1"
   ]
  }
 ],
 "metadata": {
  "kernelspec": {
   "display_name": "Python 3 (ipykernel)",
   "language": "python",
   "name": "python3"
  },
  "language_info": {
   "codemirror_mode": {
    "name": "ipython",
    "version": 3
   },
   "file_extension": ".py",
   "mimetype": "text/x-python",
   "name": "python",
   "nbconvert_exporter": "python",
   "pygments_lexer": "ipython3",
   "version": "3.11.5"
  }
 },
 "nbformat": 4,
 "nbformat_minor": 5
}
